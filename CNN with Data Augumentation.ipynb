{
 "cells": [
  {
   "cell_type": "code",
   "execution_count": 1,
   "metadata": {},
   "outputs": [],
   "source": [
    "import tensorflow as tf"
   ]
  },
  {
   "cell_type": "code",
   "execution_count": 2,
   "metadata": {},
   "outputs": [],
   "source": [
    "from keras.preprocessing.image import ImageDataGenerator"
   ]
  },
  {
   "cell_type": "code",
   "execution_count": 3,
   "metadata": {},
   "outputs": [],
   "source": [
    "train_datagen = ImageDataGenerator(\n",
    "        rescale=1./255,\n",
    "        shear_range=0.2,\n",
    "        zoom_range=0.2,\n",
    "        horizontal_flip=True)"
   ]
  },
  {
   "cell_type": "code",
   "execution_count": 4,
   "metadata": {},
   "outputs": [
    {
     "data": {
      "text/plain": [
       "'2.7.0'"
      ]
     },
     "execution_count": 4,
     "metadata": {},
     "output_type": "execute_result"
    }
   ],
   "source": [
    "tf.__version__"
   ]
  },
  {
   "cell_type": "code",
   "execution_count": 5,
   "metadata": {},
   "outputs": [
    {
     "data": {
      "text/plain": [
       "'D:\\\\computer vision'"
      ]
     },
     "execution_count": 5,
     "metadata": {},
     "output_type": "execute_result"
    }
   ],
   "source": [
    "import os\n",
    "os.getcwd()"
   ]
  },
  {
   "cell_type": "code",
   "execution_count": 14,
   "metadata": {},
   "outputs": [
    {
     "name": "stdout",
     "output_type": "stream",
     "text": [
      "Found 8000 images belonging to 2 classes.\n"
     ]
    }
   ],
   "source": [
    "training_set = train_datagen.flow_from_directory(\n",
    "    'dataset/training_set'    \n",
    "    ,target_size=(64, 64),\n",
    "        batch_size=32,\n",
    "        class_mode='binary')"
   ]
  },
  {
   "cell_type": "code",
   "execution_count": 15,
   "metadata": {},
   "outputs": [],
   "source": [
    "test_datagen = ImageDataGenerator(rescale=1./255)"
   ]
  },
  {
   "cell_type": "code",
   "execution_count": 17,
   "metadata": {},
   "outputs": [
    {
     "name": "stdout",
     "output_type": "stream",
     "text": [
      "Found 2000 images belonging to 2 classes.\n"
     ]
    }
   ],
   "source": [
    "test_set = test_datagen.flow_from_directory(\n",
    "        'dataset/test_set',target_size=(64, 64),\n",
    "        batch_size=32,\n",
    "        class_mode='binary')"
   ]
  },
  {
   "cell_type": "code",
   "execution_count": 18,
   "metadata": {},
   "outputs": [],
   "source": [
    "cnn = tf.keras.models.Sequential()"
   ]
  },
  {
   "cell_type": "code",
   "execution_count": 19,
   "metadata": {},
   "outputs": [],
   "source": [
    "cnn.add(tf.keras.layers.Conv2D(filters=32,kernel_size=3,activation='relu',input_shape=[64,64,3]))"
   ]
  },
  {
   "cell_type": "code",
   "execution_count": 20,
   "metadata": {},
   "outputs": [],
   "source": [
    "cnn.add(tf.keras.layers.MaxPool2D(pool_size=2,strides=2))"
   ]
  },
  {
   "cell_type": "code",
   "execution_count": 21,
   "metadata": {},
   "outputs": [],
   "source": [
    "cnn.add(tf.keras.layers.Conv2D(filters=32,kernel_size=3,activation='relu'))"
   ]
  },
  {
   "cell_type": "code",
   "execution_count": 22,
   "metadata": {},
   "outputs": [],
   "source": [
    "cnn.add(tf.keras.layers.MaxPool2D(pool_size=2,strides=2))"
   ]
  },
  {
   "cell_type": "code",
   "execution_count": 23,
   "metadata": {},
   "outputs": [],
   "source": [
    "cnn.add(tf.keras.layers.Flatten())"
   ]
  },
  {
   "cell_type": "code",
   "execution_count": 24,
   "metadata": {},
   "outputs": [],
   "source": [
    "cnn.add(tf.keras.layers.Dense(128,activation='relu'))"
   ]
  },
  {
   "cell_type": "code",
   "execution_count": 25,
   "metadata": {},
   "outputs": [],
   "source": [
    "cnn.add(tf.keras.layers.Dense(1,activation='sigmoid'))"
   ]
  },
  {
   "cell_type": "code",
   "execution_count": 26,
   "metadata": {},
   "outputs": [],
   "source": [
    "cnn.compile('adam','binary_crossentropy',metrics=['accuracy'])"
   ]
  },
  {
   "cell_type": "code",
   "execution_count": 27,
   "metadata": {},
   "outputs": [
    {
     "name": "stdout",
     "output_type": "stream",
     "text": [
      "Epoch 1/25\n",
      "250/250 [==============================] - 338s 1s/step - loss: 0.6810 - accuracy: 0.5611 - val_loss: 0.6420 - val_accuracy: 0.6425\n",
      "Epoch 2/25\n",
      "250/250 [==============================] - 138s 553ms/step - loss: 0.6160 - accuracy: 0.6661 - val_loss: 0.6105 - val_accuracy: 0.6685\n",
      "Epoch 3/25\n",
      "250/250 [==============================] - 120s 480ms/step - loss: 0.5568 - accuracy: 0.7139 - val_loss: 0.5374 - val_accuracy: 0.7220\n",
      "Epoch 4/25\n",
      "250/250 [==============================] - 165s 660ms/step - loss: 0.5311 - accuracy: 0.7315 - val_loss: 0.5128 - val_accuracy: 0.7520\n",
      "Epoch 5/25\n",
      "250/250 [==============================] - 149s 596ms/step - loss: 0.5094 - accuracy: 0.7490 - val_loss: 0.4902 - val_accuracy: 0.7660\n",
      "Epoch 6/25\n",
      "250/250 [==============================] - 71s 284ms/step - loss: 0.4862 - accuracy: 0.7639 - val_loss: 0.4815 - val_accuracy: 0.7810\n",
      "Epoch 7/25\n",
      "250/250 [==============================] - 63s 251ms/step - loss: 0.4659 - accuracy: 0.7779 - val_loss: 0.4781 - val_accuracy: 0.7790\n",
      "Epoch 8/25\n",
      "250/250 [==============================] - 61s 243ms/step - loss: 0.4566 - accuracy: 0.7871 - val_loss: 0.4649 - val_accuracy: 0.7830\n",
      "Epoch 9/25\n",
      "250/250 [==============================] - 58s 231ms/step - loss: 0.4443 - accuracy: 0.7968 - val_loss: 0.4593 - val_accuracy: 0.7905\n",
      "Epoch 10/25\n",
      "250/250 [==============================] - 58s 231ms/step - loss: 0.4278 - accuracy: 0.8030 - val_loss: 0.4595 - val_accuracy: 0.7895\n",
      "Epoch 11/25\n",
      "250/250 [==============================] - 58s 233ms/step - loss: 0.4250 - accuracy: 0.8055 - val_loss: 0.4673 - val_accuracy: 0.7925\n",
      "Epoch 12/25\n",
      "250/250 [==============================] - 59s 238ms/step - loss: 0.3969 - accuracy: 0.8196 - val_loss: 0.4781 - val_accuracy: 0.7870\n",
      "Epoch 13/25\n",
      "250/250 [==============================] - 59s 237ms/step - loss: 0.3903 - accuracy: 0.8241 - val_loss: 0.4487 - val_accuracy: 0.7970\n",
      "Epoch 14/25\n",
      "250/250 [==============================] - 58s 231ms/step - loss: 0.3741 - accuracy: 0.8299 - val_loss: 0.4704 - val_accuracy: 0.7960\n",
      "Epoch 15/25\n",
      "250/250 [==============================] - 81s 323ms/step - loss: 0.3586 - accuracy: 0.8381 - val_loss: 0.4729 - val_accuracy: 0.7945\n",
      "Epoch 16/25\n",
      "250/250 [==============================] - 132s 528ms/step - loss: 0.3491 - accuracy: 0.8446 - val_loss: 0.4514 - val_accuracy: 0.8005\n",
      "Epoch 17/25\n",
      "250/250 [==============================] - 63s 253ms/step - loss: 0.3311 - accuracy: 0.8519 - val_loss: 0.4660 - val_accuracy: 0.8030\n",
      "Epoch 18/25\n",
      "250/250 [==============================] - 61s 245ms/step - loss: 0.3159 - accuracy: 0.8659 - val_loss: 0.5200 - val_accuracy: 0.7780\n",
      "Epoch 19/25\n",
      "250/250 [==============================] - 62s 247ms/step - loss: 0.3049 - accuracy: 0.8636 - val_loss: 0.5320 - val_accuracy: 0.7735\n",
      "Epoch 20/25\n",
      "250/250 [==============================] - 58s 233ms/step - loss: 0.2920 - accuracy: 0.8767 - val_loss: 0.5067 - val_accuracy: 0.8005\n",
      "Epoch 21/25\n",
      "250/250 [==============================] - 58s 232ms/step - loss: 0.2842 - accuracy: 0.8794 - val_loss: 0.4850 - val_accuracy: 0.8045\n",
      "Epoch 22/25\n",
      "250/250 [==============================] - 58s 233ms/step - loss: 0.2812 - accuracy: 0.8794 - val_loss: 0.4894 - val_accuracy: 0.8125\n",
      "Epoch 23/25\n",
      "250/250 [==============================] - 59s 235ms/step - loss: 0.2594 - accuracy: 0.8890 - val_loss: 0.4905 - val_accuracy: 0.8035\n",
      "Epoch 24/25\n",
      "250/250 [==============================] - 58s 233ms/step - loss: 0.2389 - accuracy: 0.8988 - val_loss: 0.5351 - val_accuracy: 0.8150\n",
      "Epoch 25/25\n",
      "250/250 [==============================] - 59s 235ms/step - loss: 0.2425 - accuracy: 0.8964 - val_loss: 0.5304 - val_accuracy: 0.8035\n"
     ]
    },
    {
     "data": {
      "text/plain": [
       "<keras.callbacks.History at 0x23fb5751a00>"
      ]
     },
     "execution_count": 27,
     "metadata": {},
     "output_type": "execute_result"
    }
   ],
   "source": [
    "cnn.fit(x= training_set,validation_data = test_set,epochs = 25)"
   ]
  },
  {
   "cell_type": "code",
   "execution_count": 28,
   "metadata": {},
   "outputs": [],
   "source": [
    "from keras.preprocessing import image\n",
    "import numpy as np"
   ]
  },
  {
   "cell_type": "code",
   "execution_count": 31,
   "metadata": {},
   "outputs": [
    {
     "name": "stdout",
     "output_type": "stream",
     "text": [
      "Dog\n"
     ]
    }
   ],
   "source": [
    "single_image = image.load_img('dataset/single_prediction/cat_or_dog_1.jpg',target_size=(64,64))\n",
    "image_array = image.img_to_array(single_image)\n",
    "test_image = np.expand_dims(image_array, axis=0)\n",
    "result = cnn.predict(test_image/255.0)\n",
    "training_set.class_indices\n",
    "if result[0][0]>0.5:\n",
    "    prediction = \"Dog\"\n",
    "else:\n",
    "    prediction = 'Cat'\n",
    "    \n",
    "print(prediction)"
   ]
  },
  {
   "cell_type": "code",
   "execution_count": null,
   "metadata": {},
   "outputs": [],
   "source": []
  }
 ],
 "metadata": {
  "kernelspec": {
   "display_name": "Python 3",
   "language": "python",
   "name": "python3"
  }
 },
 "nbformat": 4,
 "nbformat_minor": 4
}
