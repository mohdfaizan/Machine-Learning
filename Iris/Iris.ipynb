{
 "cells": [
  {
   "cell_type": "code",
   "execution_count": 1,
   "metadata": {},
   "outputs": [],
   "source": [
    "import pandas as pd"
   ]
  },
  {
   "cell_type": "code",
   "execution_count": 2,
   "metadata": {},
   "outputs": [],
   "source": [
    "dataset = pd.read_csv('iris.csv')"
   ]
  },
  {
   "cell_type": "code",
   "execution_count": 3,
   "metadata": {},
   "outputs": [
    {
     "data": {
      "text/html": [
       "<div>\n",
       "<style scoped>\n",
       "    .dataframe tbody tr th:only-of-type {\n",
       "        vertical-align: middle;\n",
       "    }\n",
       "\n",
       "    .dataframe tbody tr th {\n",
       "        vertical-align: top;\n",
       "    }\n",
       "\n",
       "    .dataframe thead th {\n",
       "        text-align: right;\n",
       "    }\n",
       "</style>\n",
       "<table border=\"1\" class=\"dataframe\">\n",
       "  <thead>\n",
       "    <tr style=\"text-align: right;\">\n",
       "      <th></th>\n",
       "      <th>sepal.length</th>\n",
       "      <th>sepal.width</th>\n",
       "      <th>petal.length</th>\n",
       "      <th>petal.width</th>\n",
       "      <th>variety</th>\n",
       "    </tr>\n",
       "  </thead>\n",
       "  <tbody>\n",
       "    <tr>\n",
       "      <th>0</th>\n",
       "      <td>5.1</td>\n",
       "      <td>3.5</td>\n",
       "      <td>1.4</td>\n",
       "      <td>0.2</td>\n",
       "      <td>Setosa</td>\n",
       "    </tr>\n",
       "    <tr>\n",
       "      <th>1</th>\n",
       "      <td>4.9</td>\n",
       "      <td>3.0</td>\n",
       "      <td>1.4</td>\n",
       "      <td>0.2</td>\n",
       "      <td>Setosa</td>\n",
       "    </tr>\n",
       "    <tr>\n",
       "      <th>2</th>\n",
       "      <td>4.7</td>\n",
       "      <td>3.2</td>\n",
       "      <td>1.3</td>\n",
       "      <td>0.2</td>\n",
       "      <td>Setosa</td>\n",
       "    </tr>\n",
       "    <tr>\n",
       "      <th>3</th>\n",
       "      <td>4.6</td>\n",
       "      <td>3.1</td>\n",
       "      <td>1.5</td>\n",
       "      <td>0.2</td>\n",
       "      <td>Setosa</td>\n",
       "    </tr>\n",
       "    <tr>\n",
       "      <th>4</th>\n",
       "      <td>5.0</td>\n",
       "      <td>3.6</td>\n",
       "      <td>1.4</td>\n",
       "      <td>0.2</td>\n",
       "      <td>Setosa</td>\n",
       "    </tr>\n",
       "  </tbody>\n",
       "</table>\n",
       "</div>"
      ],
      "text/plain": [
       "   sepal.length  sepal.width  petal.length  petal.width variety\n",
       "0           5.1          3.5           1.4          0.2  Setosa\n",
       "1           4.9          3.0           1.4          0.2  Setosa\n",
       "2           4.7          3.2           1.3          0.2  Setosa\n",
       "3           4.6          3.1           1.5          0.2  Setosa\n",
       "4           5.0          3.6           1.4          0.2  Setosa"
      ]
     },
     "execution_count": 3,
     "metadata": {},
     "output_type": "execute_result"
    }
   ],
   "source": [
    "dataset.head()"
   ]
  },
  {
   "cell_type": "code",
   "execution_count": 4,
   "metadata": {},
   "outputs": [
    {
     "data": {
      "text/plain": [
       "Virginica     50\n",
       "Setosa        50\n",
       "Versicolor    50\n",
       "Name: variety, dtype: int64"
      ]
     },
     "execution_count": 4,
     "metadata": {},
     "output_type": "execute_result"
    }
   ],
   "source": [
    "dataset.variety.value_counts()"
   ]
  },
  {
   "cell_type": "code",
   "execution_count": 5,
   "metadata": {},
   "outputs": [
    {
     "name": "stdout",
     "output_type": "stream",
     "text": [
      "<class 'pandas.core.frame.DataFrame'>\n",
      "RangeIndex: 150 entries, 0 to 149\n",
      "Data columns (total 5 columns):\n",
      " #   Column        Non-Null Count  Dtype  \n",
      "---  ------        --------------  -----  \n",
      " 0   sepal.length  150 non-null    float64\n",
      " 1   sepal.width   150 non-null    float64\n",
      " 2   petal.length  150 non-null    float64\n",
      " 3   petal.width   150 non-null    float64\n",
      " 4   variety       150 non-null    object \n",
      "dtypes: float64(4), object(1)\n",
      "memory usage: 6.0+ KB\n"
     ]
    }
   ],
   "source": [
    "# the above statistic says that the dataset contains balanced dataset\n",
    "dataset.info()"
   ]
  },
  {
   "cell_type": "code",
   "execution_count": 6,
   "metadata": {},
   "outputs": [],
   "source": [
    "# no null values are present in the dataset\n",
    "\n",
    "#lets convert the dataset into fetaures and labels\n",
    "\n",
    "X = dataset.iloc[:,:-1].values\n",
    "y = dataset.iloc[:,4:].values"
   ]
  },
  {
   "cell_type": "code",
   "execution_count": null,
   "metadata": {},
   "outputs": [],
   "source": []
  },
  {
   "cell_type": "code",
   "execution_count": 7,
   "metadata": {},
   "outputs": [],
   "source": [
    "from sklearn.model_selection import train_test_split\n",
    "X_train,X_test,y_train,y_test = train_test_split(X,y,test_size=0.3,random_state=33)"
   ]
  },
  {
   "cell_type": "code",
   "execution_count": 8,
   "metadata": {},
   "outputs": [
    {
     "data": {
      "text/plain": [
       "(105, 1)"
      ]
     },
     "execution_count": 8,
     "metadata": {},
     "output_type": "execute_result"
    }
   ],
   "source": [
    "y_train.shape"
   ]
  },
  {
   "cell_type": "code",
   "execution_count": 9,
   "metadata": {},
   "outputs": [],
   "source": [
    "# feature scaling\n",
    "from sklearn.preprocessing import StandardScaler\n",
    "sc = StandardScaler()\n",
    "X_train = sc.fit_transform(X_train)\n",
    "X_test = sc.transform(X_test)\n",
    "\n",
    "from sklearn.preprocessing import OneHotEncoder\n",
    "from sklearn.compose import ColumnTransformer\n",
    "ct = ColumnTransformer([('encoder',OneHotEncoder(),[0])],remainder='passthrough')\n",
    "y_train = ct.fit_transform(y_train)\n",
    "y_test = ct.transform(y_test)"
   ]
  },
  {
   "cell_type": "code",
   "execution_count": 10,
   "metadata": {},
   "outputs": [
    {
     "data": {
      "text/plain": [
       "((105, 4), (45, 4), (105, 3), (45, 3))"
      ]
     },
     "execution_count": 10,
     "metadata": {},
     "output_type": "execute_result"
    }
   ],
   "source": [
    "X_train.shape,X_test.shape,y_train.shape,y_test.shape"
   ]
  },
  {
   "cell_type": "code",
   "execution_count": null,
   "metadata": {},
   "outputs": [],
   "source": []
  },
  {
   "cell_type": "code",
   "execution_count": 11,
   "metadata": {},
   "outputs": [],
   "source": [
    "import tensorflow as tf"
   ]
  },
  {
   "cell_type": "code",
   "execution_count": 12,
   "metadata": {},
   "outputs": [],
   "source": [
    "# Implemeting Artificial Neural Network \n",
    "\n",
    "model = tf.keras.models.Sequential()\n",
    "\n",
    "model.add(tf.keras.layers.Dense(100,'relu',input_dim=4))\n",
    "model.add(tf.keras.layers.Dense(50,'relu'))\n",
    "model.add(tf.keras.layers.Dense(50,'relu'))\n",
    "model.add(tf.keras.layers.Dense(3,'softmax'))\n",
    "\n",
    "model.compile(optimizer = 'adam',loss='categorical_crossentropy',metrics=['accuracy'])"
   ]
  },
  {
   "cell_type": "code",
   "execution_count": 13,
   "metadata": {},
   "outputs": [
    {
     "name": "stdout",
     "output_type": "stream",
     "text": [
      "Model: \"sequential\"\n",
      "_________________________________________________________________\n",
      " Layer (type)                Output Shape              Param #   \n",
      "=================================================================\n",
      " dense (Dense)               (None, 100)               500       \n",
      "                                                                 \n",
      " dense_1 (Dense)             (None, 50)                5050      \n",
      "                                                                 \n",
      " dense_2 (Dense)             (None, 50)                2550      \n",
      "                                                                 \n",
      " dense_3 (Dense)             (None, 3)                 153       \n",
      "                                                                 \n",
      "=================================================================\n",
      "Total params: 8,253\n",
      "Trainable params: 8,253\n",
      "Non-trainable params: 0\n",
      "_________________________________________________________________\n"
     ]
    }
   ],
   "source": [
    "model.summary()"
   ]
  },
  {
   "cell_type": "code",
   "execution_count": 14,
   "metadata": {},
   "outputs": [
    {
     "name": "stdout",
     "output_type": "stream",
     "text": [
      "Epoch 1/10\n",
      "6/6 [==============================] - 1s 43ms/step - loss: 1.0483 - accuracy: 0.3429 - val_loss: 0.9267 - val_accuracy: 0.4889\n",
      "Epoch 2/10\n",
      "6/6 [==============================] - 0s 10ms/step - loss: 0.9043 - accuracy: 0.7048 - val_loss: 0.8203 - val_accuracy: 0.7333\n",
      "Epoch 3/10\n",
      "6/6 [==============================] - 0s 10ms/step - loss: 0.7990 - accuracy: 0.7905 - val_loss: 0.7255 - val_accuracy: 0.7333\n",
      "Epoch 4/10\n",
      "6/6 [==============================] - 0s 10ms/step - loss: 0.6910 - accuracy: 0.8095 - val_loss: 0.6344 - val_accuracy: 0.7778\n",
      "Epoch 5/10\n",
      "6/6 [==============================] - 0s 9ms/step - loss: 0.5805 - accuracy: 0.8476 - val_loss: 0.5532 - val_accuracy: 0.7778\n",
      "Epoch 6/10\n",
      "6/6 [==============================] - 0s 9ms/step - loss: 0.4739 - accuracy: 0.8667 - val_loss: 0.4872 - val_accuracy: 0.8000\n",
      "Epoch 7/10\n",
      "6/6 [==============================] - 0s 8ms/step - loss: 0.3935 - accuracy: 0.8857 - val_loss: 0.4421 - val_accuracy: 0.8444\n",
      "Epoch 8/10\n",
      "6/6 [==============================] - 0s 9ms/step - loss: 0.3303 - accuracy: 0.8857 - val_loss: 0.3979 - val_accuracy: 0.8444\n",
      "Epoch 9/10\n",
      "6/6 [==============================] - 0s 9ms/step - loss: 0.2934 - accuracy: 0.8857 - val_loss: 0.3633 - val_accuracy: 0.8222\n",
      "Epoch 10/10\n",
      "6/6 [==============================] - 0s 9ms/step - loss: 0.2680 - accuracy: 0.8762 - val_loss: 0.3401 - val_accuracy: 0.8222\n"
     ]
    },
    {
     "data": {
      "text/plain": [
       "<keras.callbacks.History at 0x27304050790>"
      ]
     },
     "execution_count": 14,
     "metadata": {},
     "output_type": "execute_result"
    }
   ],
   "source": [
    "# model.fit(X_train,y_train,validation_data=(X_test,y_test),epochs=20)\n",
    "model.fit(X_train,y_train,validation_data=(X_test,y_test),batch_size=20,epochs=10,verbose=1)\n"
   ]
  },
  {
   "cell_type": "code",
   "execution_count": 18,
   "metadata": {},
   "outputs": [],
   "source": [
    "import numpy as np"
   ]
  },
  {
   "cell_type": "code",
   "execution_count": 19,
   "metadata": {},
   "outputs": [
    {
     "name": "stdout",
     "output_type": "stream",
     "text": [
      "Accuracy of the dataset 82.22222222222221\n"
     ]
    }
   ],
   "source": [
    "prediction=model.predict(X_test)\n",
    "length=len(prediction)\n",
    "y_label=np.argmax(y_test,axis=1)\n",
    "predict_label=np.argmax(prediction,axis=1)\n",
    "\n",
    "accuracy=np.sum(y_label==predict_label)/length * 100 \n",
    "print(\"Accuracy of the dataset\",accuracy )"
   ]
  },
  {
   "cell_type": "code",
   "execution_count": 20,
   "metadata": {},
   "outputs": [],
   "source": [
    "from sklearn.metrics import accuracy_score"
   ]
  },
  {
   "cell_type": "code",
   "execution_count": 23,
   "metadata": {},
   "outputs": [
    {
     "data": {
      "text/plain": [
       "0.8222222222222222"
      ]
     },
     "execution_count": 23,
     "metadata": {},
     "output_type": "execute_result"
    }
   ],
   "source": [
    "accuracy_score(y_label,predict_label)"
   ]
  },
  {
   "cell_type": "code",
   "execution_count": 25,
   "metadata": {},
   "outputs": [
    {
     "name": "stderr",
     "output_type": "stream",
     "text": [
      "C:\\Users\\Mohd Faizan Umar\\anaconda3\\lib\\site-packages\\sklearn\\utils\\validation.py:72: DataConversionWarning: A column-vector y was passed when a 1d array was expected. Please change the shape of y to (n_samples, ), for example using ravel().\n",
      "  return f(**kwargs)\n"
     ]
    }
   ],
   "source": [
    "# implementation of LogistcRegression\n",
    "from sklearn.model_selection import train_test_split\n",
    "X_train,X_test,y_train,y_test = train_test_split(X,y,test_size=0.3,random_state=33)\n",
    "\n",
    "from sklearn.preprocessing import StandardScaler\n",
    "sc = StandardScaler()\n",
    "X_train = sc.fit_transform(X_train)\n",
    "X_test = sc.transform(X_test)\n",
    "\n",
    "from sklearn.preprocessing import LabelEncoder\n",
    "le = LabelEncoder()\n",
    "y_train_la = le.fit_transform(y_train)\n",
    "y_test_la = le.transform(y_test)"
   ]
  },
  {
   "cell_type": "code",
   "execution_count": 31,
   "metadata": {},
   "outputs": [
    {
     "data": {
      "text/plain": [
       "((105, 4), (45, 4), (105,), (45,))"
      ]
     },
     "execution_count": 31,
     "metadata": {},
     "output_type": "execute_result"
    }
   ],
   "source": [
    "X_train.shape,X_test.shape,y_train_la.shape,y_test_la.shape"
   ]
  },
  {
   "cell_type": "code",
   "execution_count": 32,
   "metadata": {},
   "outputs": [
    {
     "data": {
      "text/plain": [
       "LogisticRegression()"
      ]
     },
     "execution_count": 32,
     "metadata": {},
     "output_type": "execute_result"
    }
   ],
   "source": [
    "from sklearn.linear_model import LogisticRegression\n",
    "\n",
    "lg = LogisticRegression()\n",
    "lg.fit(X_train,y_train_la)"
   ]
  },
  {
   "cell_type": "code",
   "execution_count": 34,
   "metadata": {},
   "outputs": [],
   "source": [
    "y_pred_la = lg.predict(X_test)"
   ]
  },
  {
   "cell_type": "code",
   "execution_count": 35,
   "metadata": {},
   "outputs": [
    {
     "data": {
      "text/plain": [
       "0.9555555555555556"
      ]
     },
     "execution_count": 35,
     "metadata": {},
     "output_type": "execute_result"
    }
   ],
   "source": [
    "accuracy_score(y_test_la,y_pred_la)"
   ]
  },
  {
   "cell_type": "code",
   "execution_count": 36,
   "metadata": {},
   "outputs": [],
   "source": [
    "from sklearn.metrics import confusion_matrix\n",
    "cm = confusion_matrix(y_test_la, y_pred_la)"
   ]
  },
  {
   "cell_type": "code",
   "execution_count": 38,
   "metadata": {},
   "outputs": [
    {
     "data": {
      "image/png": "[encoded data removed]",
      "text/plain": [
       "<Figure size 432x288 with 2 Axes>"
      ]
     },
     "metadata": {
      "needs_background": "light"
     },
     "output_type": "display_data"
    }
   ],
   "source": [
    "# Plot confusion matrix\n",
    "import matplotlib.pyplot as plt\n",
    "import seaborn as sns\n",
    "import pandas as pd\n",
    "# confusion matrix sns heatmap \n",
    "ax = plt.axes()\n",
    "df_cm = cm\n",
    "sns.heatmap(df_cm, annot=True, annot_kws={\"size\": 30}, fmt='d',cmap=\"Blues\", ax = ax )\n",
    "ax.set_title('Confusion Matrix')\n",
    "plt.show()"
   ]
  },
  {
   "cell_type": "code",
   "execution_count": 43,
   "metadata": {},
   "outputs": [
    {
     "name": "stdout",
     "output_type": "stream",
     "text": [
      "Confusion matrix for Random Forest\n",
      " [[11  0  0]\n",
      " [ 0 15  0]\n",
      " [ 0  3 16]]\n",
      "accuracy_random_Forest : 0.933\n",
      "precision_random_Forest : 0.933\n",
      "recall_random_Forest : 0.933\n",
      "f1-score_random_Forest : 0.933\n"
     ]
    }
   ],
   "source": [
    "# training Random forest Classifier\n",
    "\n",
    "from sklearn.ensemble import RandomForestClassifier\n",
    "from sklearn.metrics import precision_score,recall_score,f1_score\n",
    "random_forest = RandomForestClassifier(n_estimators=100)\n",
    "random_forest.fit(X_train, y_train_la)\n",
    "Y_prediction = random_forest.predict(X_test)\n",
    "accuracy_rf=round(accuracy_score(y_test_la,Y_prediction)* 100, 2)\n",
    "acc_random_forest = round(random_forest.score(X_train, y_train) * 100, 2)\n",
    "\n",
    "\n",
    "cm = confusion_matrix(y_test_la, Y_prediction)\n",
    "accuracy = accuracy_score(y_test_la,Y_prediction)\n",
    "precision =precision_score(y_test_la, Y_prediction,average='micro')\n",
    "recall =  recall_score(y_test_la, Y_prediction,average='micro')\n",
    "f1 = f1_score(y_test_la,Y_prediction,average='micro')\n",
    "print('Confusion matrix for Random Forest\\n',cm)\n",
    "print('accuracy_random_Forest : %.3f' %accuracy)\n",
    "print('precision_random_Forest : %.3f' %precision)\n",
    "print('recall_random_Forest : %.3f' %recall)\n",
    "print('f1-score_random_Forest : %.3f' %f1)"
   ]
  },
  {
   "cell_type": "code",
   "execution_count": 47,
   "metadata": {},
   "outputs": [
    {
     "name": "stdout",
     "output_type": "stream",
     "text": [
      "Confusion matrix for KNN\n",
      " [[11  0  0]\n",
      " [ 0 15  0]\n",
      " [ 0  4 15]]\n",
      "accuracy_KNN : 0.911\n",
      "precision_KNN : 0.911\n",
      "recall_KNN: 0.911\n",
      "f1-score_KNN : 0.911\n"
     ]
    }
   ],
   "source": [
    "from sklearn.neighbors import KNeighborsClassifier\n",
    "\n",
    "knn = KNeighborsClassifier(n_neighbors = 3)\n",
    "knn.fit(X_train, y_train_la)\n",
    "Y_pred = knn.predict(X_test) \n",
    "accuracy_knn=round(accuracy_score(y_test_la,Y_pred)* 100, 2)\n",
    "acc_knn = round(knn.score(X_train, y_train_la) * 100, 2)\n",
    "\n",
    "cm = confusion_matrix(y_test_la, Y_pred)\n",
    "accuracy = accuracy_score(y_test_la,Y_pred)\n",
    "precision =precision_score(y_test_la, Y_pred,average='micro')\n",
    "recall =  recall_score(y_test_la, Y_pred,average='micro')\n",
    "f1 = f1_score(y_test_la,Y_pred,average='micro')\n",
    "print('Confusion matrix for KNN\\n',cm)\n",
    "print('accuracy_KNN : %.3f' %accuracy)\n",
    "print('precision_KNN : %.3f' %precision)\n",
    "print('recall_KNN: %.3f' %recall)\n",
    "print('f1-score_KNN : %.3f' %f1)"
   ]
  },
  {
   "cell_type": "code",
   "execution_count": 48,
   "metadata": {},
   "outputs": [
    {
     "name": "stdout",
     "output_type": "stream",
     "text": [
      "Confusion matrix for Naive Bayes\n",
      " [[11  0  0]\n",
      " [ 0 15  0]\n",
      " [ 0  2 17]]\n",
      "accuracy_Naive Bayes: 0.956\n",
      "precision_Naive Bayes: 0.956\n",
      "recall_Naive Bayes: 0.956\n",
      "f1-score_Naive Bayes : 0.956\n"
     ]
    }
   ],
   "source": [
    "from sklearn.naive_bayes import GaussianNB\n",
    "\n",
    "gaussian = GaussianNB()\n",
    "gaussian.fit(X_train, y_train_la)\n",
    "Y_pred = gaussian.predict(X_test) \n",
    "accuracy_nb=round(accuracy_score(y_test_la,Y_pred)* 100, 2)\n",
    "acc_gaussian = round(gaussian.score(X_train, y_train_la) * 100, 2)\n",
    "\n",
    "cm = confusion_matrix(y_test_la, Y_pred)\n",
    "accuracy = accuracy_score(y_test_la,Y_pred)\n",
    "precision =precision_score(y_test_la, Y_pred,average='micro')\n",
    "recall =  recall_score(y_test_la, Y_pred,average='micro')\n",
    "f1 = f1_score(y_test_la,Y_pred,average='micro')\n",
    "print('Confusion matrix for Naive Bayes\\n',cm)\n",
    "print('accuracy_Naive Bayes: %.3f' %accuracy)\n",
    "print('precision_Naive Bayes: %.3f' %precision)\n",
    "print('recall_Naive Bayes: %.3f' %recall)\n",
    "print('f1-score_Naive Bayes : %.3f' %f1)"
   ]
  },
  {
   "cell_type": "code",
   "execution_count": 49,
   "metadata": {},
   "outputs": [
    {
     "name": "stdout",
     "output_type": "stream",
     "text": [
      "Confusion matrix for SVC\n",
      " [[11  0  0]\n",
      " [ 0 14  1]\n",
      " [ 0  2 17]]\n",
      "accuracy_SVC: 0.933\n",
      "precision_SVC: 0.933\n",
      "recall_SVC: 0.933\n",
      "f1-score_SVC : 0.933\n"
     ]
    }
   ],
   "source": [
    "from sklearn.svm import LinearSVC\n",
    "\n",
    "linear_svc = LinearSVC(max_iter=4000)\n",
    "linear_svc.fit(X_train, y_train_la)\n",
    "Y_pred = linear_svc.predict(X_test)\n",
    "accuracy_svc=round(accuracy_score(y_test_la,Y_pred)* 100, 2)\n",
    "acc_linear_svc = round(linear_svc.score(X_train, y_train_la) * 100, 2)\n",
    "\n",
    "cm = confusion_matrix(y_test_la, Y_pred)\n",
    "accuracy = accuracy_score(y_test_la,Y_pred)\n",
    "precision =precision_score(y_test_la, Y_pred,average='micro')\n",
    "recall =  recall_score(y_test_la, Y_pred,average='micro')\n",
    "f1 = f1_score(y_test_la,Y_pred,average='micro')\n",
    "print('Confusion matrix for SVC\\n',cm)\n",
    "print('accuracy_SVC: %.3f' %accuracy)\n",
    "print('precision_SVC: %.3f' %precision)\n",
    "print('recall_SVC: %.3f' %recall)\n",
    "print('f1-score_SVC : %.3f' %f1)"
   ]
  },
  {
   "cell_type": "code",
   "execution_count": 50,
   "metadata": {},
   "outputs": [
    {
     "name": "stdout",
     "output_type": "stream",
     "text": [
      "Confusion matrix for DecisionTree\n",
      " [[11  0  0]\n",
      " [ 0 15  0]\n",
      " [ 0  4 15]]\n",
      "accuracy_DecisionTree: 0.911\n",
      "precision_DecisionTree: 0.911\n",
      "recall_DecisionTree: 0.911\n",
      "f1-score_DecisionTree : 0.911\n"
     ]
    }
   ],
   "source": [
    "from sklearn.tree import DecisionTreeClassifier\n",
    "\n",
    "decision_tree = DecisionTreeClassifier() \n",
    "decision_tree.fit(X_train, y_train_la)  \n",
    "Y_pred = decision_tree.predict(X_test) \n",
    "accuracy_dt=round(accuracy_score(y_test_la,Y_pred)* 100, 2)\n",
    "acc_decision_tree = round(decision_tree.score(X_train, y_train_la) * 100, 2)\n",
    "\n",
    "cm = confusion_matrix(y_test_la, Y_pred)\n",
    "accuracy = accuracy_score(y_test_la,Y_pred)\n",
    "precision =precision_score(y_test_la, Y_pred,average='micro')\n",
    "recall =  recall_score(y_test_la, Y_pred,average='micro')\n",
    "f1 = f1_score(y_test_la,Y_pred,average='micro')\n",
    "print('Confusion matrix for DecisionTree\\n',cm)\n",
    "print('accuracy_DecisionTree: %.3f' %accuracy)\n",
    "print('precision_DecisionTree: %.3f' %precision)\n",
    "print('recall_DecisionTree: %.3f' %recall)\n",
    "print('f1-score_DecisionTree : %.3f' %f1)"
   ]
  },
  {
   "cell_type": "code",
   "execution_count": null,
   "metadata": {},
   "outputs": [],
   "source": []
  }
 ],
 "metadata": {
  "kernelspec": {
   "display_name": "Python 3",
   "language": "python",
   "name": "python3"
  },
  "language_info": {
   "codemirror_mode": {
    "name": "ipython",
    "version": 3
   },
   "file_extension": ".py",
   "mimetype": "text/x-python",
   "name": "python",
   "nbconvert_exporter": "python",
   "pygments_lexer": "ipython3",
   "version": "3.8.5"
  }
 },
 "nbformat": 4,
 "nbformat_minor": 4
}
