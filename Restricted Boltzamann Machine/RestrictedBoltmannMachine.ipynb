{
  "nbformat": 4,
  "nbformat_minor": 0,
  "metadata": {
    "colab": {
      "name": "RestrictedBoltmannMachine.ipynb",
      "provenance": [],
      "collapsed_sections": []
    },
    "kernelspec": {
      "name": "python3",
      "display_name": "Python 3"
    },
    "language_info": {
      "name": "python"
    }
  },
  "cells": [
    {
      "cell_type": "code",
      "execution_count": 1,
      "metadata": {
        "id": "HgxRHG8SDkvy"
      },
      "outputs": [],
      "source": [
        "import pandas as pd\n",
        "import numpy as np\n",
        "import torch\n",
        "import torch.nn as nn\n",
        "import torch.optim as optim\n",
        "import torch.nn.parallel\n",
        "import torch.utils.data\n",
        "from torch.autograd import Variable"
      ]
    },
    {
      "cell_type": "code",
      "source": [
        "# Data Scource : https://grouplens.org/datasets/movielens/\n",
        "\n",
        "# we are using encoding because movies name has some special symbols in it.\n",
        "movies = pd.read_csv('movies.dat',sep='::',header=None,engine='python',encoding='latin-1')\n",
        "users = pd.read_csv('users.dat',sep='::',header=None,engine='python',encoding='latin-1')\n",
        "ratings = pd.read_csv('ratings.dat',sep='::',header=None,engine='python',encoding='latin-1')"
      ],
      "metadata": {
        "id": "E-CFbWHoDpOf"
      },
      "execution_count": 2,
      "outputs": []
    },
    {
      "cell_type": "code",
      "source": [
        "users.head()"
      ],
      "metadata": {
        "id": "eumxqpYiEyT4",
        "colab": {
          "base_uri": "https://localhost:8080/",
          "height": 206
        },
        "outputId": "f57e6059-2e3d-4ec4-824b-dc4f6c978aee"
      },
      "execution_count": 3,
      "outputs": [
        {
          "output_type": "execute_result",
          "data": {
            "text/html": [
              "\n",
              "  <div id=\"df-c7bdd077-b076-473f-bc65-45338c8a1bb6\">\n",
              "    <div class=\"colab-df-container\">\n",
              "      <div>\n",
              "<style scoped>\n",
              "    .dataframe tbody tr th:only-of-type {\n",
              "        vertical-align: middle;\n",
              "    }\n",
              "\n",
              "    .dataframe tbody tr th {\n",
              "        vertical-align: top;\n",
              "    }\n",
              "\n",
              "    .dataframe thead th {\n",
              "        text-align: right;\n",
              "    }\n",
              "</style>\n",
              "<table border=\"1\" class=\"dataframe\">\n",
              "  <thead>\n",
              "    <tr style=\"text-align: right;\">\n",
              "      <th></th>\n",
              "      <th>0</th>\n",
              "      <th>1</th>\n",
              "      <th>2</th>\n",
              "      <th>3</th>\n",
              "      <th>4</th>\n",
              "    </tr>\n",
              "  </thead>\n",
              "  <tbody>\n",
              "    <tr>\n",
              "      <th>0</th>\n",
              "      <td>1</td>\n",
              "      <td>F</td>\n",
              "      <td>1</td>\n",
              "      <td>10</td>\n",
              "      <td>48067</td>\n",
              "    </tr>\n",
              "    <tr>\n",
              "      <th>1</th>\n",
              "      <td>2</td>\n",
              "      <td>M</td>\n",
              "      <td>56</td>\n",
              "      <td>16</td>\n",
              "      <td>70072</td>\n",
              "    </tr>\n",
              "    <tr>\n",
              "      <th>2</th>\n",
              "      <td>3</td>\n",
              "      <td>M</td>\n",
              "      <td>25</td>\n",
              "      <td>15</td>\n",
              "      <td>55117</td>\n",
              "    </tr>\n",
              "    <tr>\n",
              "      <th>3</th>\n",
              "      <td>4</td>\n",
              "      <td>M</td>\n",
              "      <td>45</td>\n",
              "      <td>7</td>\n",
              "      <td>02460</td>\n",
              "    </tr>\n",
              "    <tr>\n",
              "      <th>4</th>\n",
              "      <td>5</td>\n",
              "      <td>M</td>\n",
              "      <td>25</td>\n",
              "      <td>20</td>\n",
              "      <td>55455</td>\n",
              "    </tr>\n",
              "  </tbody>\n",
              "</table>\n",
              "</div>\n",
              "      <button class=\"colab-df-convert\" onclick=\"convertToInteractive('df-c7bdd077-b076-473f-bc65-45338c8a1bb6')\"\n",
              "              title=\"Convert this dataframe to an interactive table.\"\n",
              "              style=\"display:none;\">\n",
              "        \n",
              "  <svg xmlns=\"http://www.w3.org/2000/svg\" height=\"24px\"viewBox=\"0 0 24 24\"\n",
              "       width=\"24px\">\n",
              "    <path d=\"M0 0h24v24H0V0z\" fill=\"none\"/>\n",
              "    <path d=\"M18.56 5.44l.94 2.06.94-2.06 2.06-.94-2.06-.94-.94-2.06-.94 2.06-2.06.94zm-11 1L8.5 8.5l.94-2.06 2.06-.94-2.06-.94L8.5 2.5l-.94 2.06-2.06.94zm10 10l.94 2.06.94-2.06 2.06-.94-2.06-.94-.94-2.06-.94 2.06-2.06.94z\"/><path d=\"M17.41 7.96l-1.37-1.37c-.4-.4-.92-.59-1.43-.59-.52 0-1.04.2-1.43.59L10.3 9.45l-7.72 7.72c-.78.78-.78 2.05 0 2.83L4 21.41c.39.39.9.59 1.41.59.51 0 1.02-.2 1.41-.59l7.78-7.78 2.81-2.81c.8-.78.8-2.07 0-2.86zM5.41 20L4 18.59l7.72-7.72 1.47 1.35L5.41 20z\"/>\n",
              "  </svg>\n",
              "      </button>\n",
              "      \n",
              "  <style>\n",
              "    .colab-df-container {\n",
              "      display:flex;\n",
              "      flex-wrap:wrap;\n",
              "      gap: 12px;\n",
              "    }\n",
              "\n",
              "    .colab-df-convert {\n",
              "      background-color: #E8F0FE;\n",
              "      border: none;\n",
              "      border-radius: 50%;\n",
              "      cursor: pointer;\n",
              "      display: none;\n",
              "      fill: #1967D2;\n",
              "      height: 32px;\n",
              "      padding: 0 0 0 0;\n",
              "      width: 32px;\n",
              "    }\n",
              "\n",
              "    .colab-df-convert:hover {\n",
              "      background-color: #E2EBFA;\n",
              "      box-shadow: 0px 1px 2px rgba(60, 64, 67, 0.3), 0px 1px 3px 1px rgba(60, 64, 67, 0.15);\n",
              "      fill: #174EA6;\n",
              "    }\n",
              "\n",
              "    [theme=dark] .colab-df-convert {\n",
              "      background-color: #3B4455;\n",
              "      fill: #D2E3FC;\n",
              "    }\n",
              "\n",
              "    [theme=dark] .colab-df-convert:hover {\n",
              "      background-color: #434B5C;\n",
              "      box-shadow: 0px 1px 3px 1px rgba(0, 0, 0, 0.15);\n",
              "      filter: drop-shadow(0px 1px 2px rgba(0, 0, 0, 0.3));\n",
              "      fill: #FFFFFF;\n",
              "    }\n",
              "  </style>\n",
              "\n",
              "      <script>\n",
              "        const buttonEl =\n",
              "          document.querySelector('#df-c7bdd077-b076-473f-bc65-45338c8a1bb6 button.colab-df-convert');\n",
              "        buttonEl.style.display =\n",
              "          google.colab.kernel.accessAllowed ? 'block' : 'none';\n",
              "\n",
              "        async function convertToInteractive(key) {\n",
              "          const element = document.querySelector('#df-c7bdd077-b076-473f-bc65-45338c8a1bb6');\n",
              "          const dataTable =\n",
              "            await google.colab.kernel.invokeFunction('convertToInteractive',\n",
              "                                                     [key], {});\n",
              "          if (!dataTable) return;\n",
              "\n",
              "          const docLinkHtml = 'Like what you see? Visit the ' +\n",
              "            '<a target=\"_blank\" href=https://colab.research.google.com/notebooks/data_table.ipynb>data table notebook</a>'\n",
              "            + ' to learn more about interactive tables.';\n",
              "          element.innerHTML = '';\n",
              "          dataTable['output_type'] = 'display_data';\n",
              "          await google.colab.output.renderOutput(dataTable, element);\n",
              "          const docLink = document.createElement('div');\n",
              "          docLink.innerHTML = docLinkHtml;\n",
              "          element.appendChild(docLink);\n",
              "        }\n",
              "      </script>\n",
              "    </div>\n",
              "  </div>\n",
              "  "
            ],
            "text/plain": [
              "   0  1   2   3      4\n",
              "0  1  F   1  10  48067\n",
              "1  2  M  56  16  70072\n",
              "2  3  M  25  15  55117\n",
              "3  4  M  45   7  02460\n",
              "4  5  M  25  20  55455"
            ]
          },
          "metadata": {},
          "execution_count": 3
        }
      ]
    },
    {
      "cell_type": "code",
      "source": [
        "movies.shape,users.shape,ratings.shape"
      ],
      "metadata": {
        "id": "1Xt4oKZfEzsF",
        "colab": {
          "base_uri": "https://localhost:8080/"
        },
        "outputId": "af950aa6-1da7-4bf6-e0e2-e7b565e6f510"
      },
      "execution_count": 4,
      "outputs": [
        {
          "output_type": "execute_result",
          "data": {
            "text/plain": [
              "((3883, 3), (6040, 5), (1000209, 4))"
            ]
          },
          "metadata": {},
          "execution_count": 4
        }
      ]
    },
    {
      "cell_type": "code",
      "source": [
        " # Preparing training and testing set\n",
        "\n",
        "training_set = pd.read_csv('u1.base',delimiter='\\t')\n",
        "training_set = np.array(training_set, dtype='int')\n",
        "\n",
        "testing_set = pd.read_csv('u1.test',delimiter='\\t')\n",
        "testing_set = np.array(testing_set, dtype='int')"
      ],
      "metadata": {
        "id": "wNw20WAdE2Y-"
      },
      "execution_count": 5,
      "outputs": []
    },
    {
      "cell_type": "code",
      "source": [
        "nb_users = int(max(max(training_set[:,0]),max(testing_set[:,0])))\n",
        "nb_movies = int(max(max(training_set[:,1]),max(testing_set[:,1])))"
      ],
      "metadata": {
        "id": "Eb40f5StGssx"
      },
      "execution_count": 6,
      "outputs": []
    },
    {
      "cell_type": "code",
      "source": [
        "nb_users,nb_movies"
      ],
      "metadata": {
        "id": "ZeHFxWEAJqHa",
        "colab": {
          "base_uri": "https://localhost:8080/"
        },
        "outputId": "118f10b3-d59e-4f00-c964-ad11877bc520"
      },
      "execution_count": 7,
      "outputs": [
        {
          "output_type": "execute_result",
          "data": {
            "text/plain": [
              "(943, 1682)"
            ]
          },
          "metadata": {},
          "execution_count": 7
        }
      ]
    },
    {
      "cell_type": "code",
      "source": [
        "# Converting the data into array with user in the lines and movies in the columns\n",
        "\n",
        "def convert(data):\n",
        "  new_data = []\n",
        "  for id_users in range(nb_users):\n",
        "    user_list = []\n",
        "    id_movies = data[:,1][data[:,0]==id_users]\n",
        "    id_ratings = data[:,2][data[:,0]==id_users]\n",
        "    ratings = np.zeros(nb_movies)\n",
        "    ratings[id_movies-1] = id_ratings\n",
        "    new_data.append(ratings)\n",
        "  return new_data\n"
      ],
      "metadata": {
        "id": "dPNn3llXKBMW"
      },
      "execution_count": 8,
      "outputs": []
    },
    {
      "cell_type": "code",
      "source": [
        "training_set = convert(training_set)\n",
        "testing_set = convert(testing_set)"
      ],
      "metadata": {
        "id": "_jV7YKwuPjcn"
      },
      "execution_count": 9,
      "outputs": []
    },
    {
      "cell_type": "code",
      "source": [
        "# Converting the data into torch tensors\n",
        "\n",
        "training_set = torch.FloatTensor(training_set)\n",
        "testing_set = torch.FloatTensor(testing_set)"
      ],
      "metadata": {
        "id": "ba2wnzR8Pnic",
        "colab": {
          "base_uri": "https://localhost:8080/"
        },
        "outputId": "3e10b693-2171-4579-a6cd-b6b25d978f46"
      },
      "execution_count": 10,
      "outputs": [
        {
          "output_type": "stream",
          "name": "stderr",
          "text": [
            "/usr/local/lib/python3.7/dist-packages/ipykernel_launcher.py:3: UserWarning: Creating a tensor from a list of numpy.ndarrays is extremely slow. Please consider converting the list to a single numpy.ndarray with numpy.array() before converting to a tensor. (Triggered internally at  ../torch/csrc/utils/tensor_new.cpp:201.)\n",
            "  This is separate from the ipykernel package so we can avoid doing imports until\n"
          ]
        }
      ]
    },
    {
      "cell_type": "code",
      "source": [
        "# Converting the rating into Binary Rating 1 Like and 0 Dislike\n",
        "\n",
        "training_set[training_set==0] = -1\n",
        "training_set[training_set==1] = 0  # Dislike\n",
        "training_set[training_set==2] = 0  # Dislike\n",
        "training_set[training_set==3] = 1  # Like\n",
        "training_set[training_set==4] = 1  # Like\n",
        "training_set[training_set==5] = 1  # Like\n",
        "\n",
        "testing_set[testing_set==0] = -1\n",
        "testing_set[testing_set==1] = 0  # Dislike\n",
        "testing_set[testing_set==2] = 0  # Dislike\n",
        "testing_set[testing_set==3] = 1  # Like\n",
        "testing_set[testing_set==4] = 1  # Like\n",
        "testing_set[testing_set==5] = 1  # Like"
      ],
      "metadata": {
        "id": "LmfolkVFjdrr"
      },
      "execution_count": 11,
      "outputs": []
    },
    {
      "cell_type": "code",
      "source": [
        "# # Creating the architecture of the Neural Network\n",
        "# # Restricted Boltzmann Machine is probablistic Graphical Model therefore we are going to build PGM (probablistic Graphical Model).\n",
        "\n",
        "# class RBM():\n",
        "\n",
        "#   def __init__(self,n_visible,n_hidden):\n",
        "#     self.W = torch.randn(n_hidden,n_visible) # mean 0 variance 1\n",
        "#     # Bias for Hidden nodes, One is given because it expects two dimensions\n",
        "#     self.a = torch.randn(1,n_hidden)\n",
        "#     # Bias for visible node, One is given becasue it expects two dimensions\n",
        "#     self.b = torch.randn(1,n_visible)\n",
        "\n",
        "#   # we have to approximate log liklihood Gradient for that we need to Apply Gibbs sampling for that need to find probability of hidden node given visible node.\n",
        "#   def sample_h(self,x):\n",
        "#     # it will calculate P(h|v) probability of H given V \n",
        "#     # P(h|v) is nothing but sigmoid activateion function, applied to weight*x+bias\n",
        "#     wx = torch.mm(x,self.W.t())\n",
        "#     # wx+a\n",
        "#     activation = wx + self.a.expand_as(wx)\n",
        "#     p_h_given_v = torch.sigmoid(activation)\n",
        "#     return p_h_given_v, torch.bernoulli(p_h_given_v)\n",
        "\n",
        "#   # we have to approximate log liklihood Gradient for that we need to Apply Gibbs sampling for that need to find probability of hidden node given visible node.\n",
        "#   def sample_v(self,y):\n",
        "#     # it will calculate P(h|v) probability of H given V \n",
        "#     # P(h|v) is nothing but sigmoid activateion function, applied to weight*x+bias\n",
        "#     wy = torch.mm(y,self.W)\n",
        "#     # wx+a\n",
        "#     activation = wy + self.b.expand_as(wy)\n",
        "#     p_v_given_h = torch.sigmoid(activation)\n",
        "#     return p_v_given_h, torch.bernoulli(p_v_given_h)\n",
        "\n",
        "#   # this function will take care of Contrastive Divergence\n",
        "#   def train(self,v0,vk,ph0,phk):\n",
        "#     #v0 is the input vector containing the ratings of all the movies given by one user.\n",
        "#     #vk visible nodes after k sampling.\n",
        "#     #ph0 vector of probabilty \n",
        "#     #phk probability of hidden nodes after k iteration.\n",
        "#     self.W += torch.mm(v0.t(),ph0) - torch.mm(vk.t(),phk)\n",
        "#     self.b += torch.sum((v0-vk),0)\n",
        "#     self.a += torch.sum((ph0-phk),0)\n",
        "\n",
        "class RBM():\n",
        "  def __init__(self, nv, nh):\n",
        "    self.W = torch.randn(nh, nv)\n",
        "    self.a = torch.randn(1, nh)\n",
        "    self.b = torch.randn(1, nv)\n",
        "  def sample_h(self, x):\n",
        "    wx = torch.mm(x, self.W.t())\n",
        "    activation = wx + self.a.expand_as(wx)\n",
        "    p_h_given_v = torch.sigmoid(activation)\n",
        "    return p_h_given_v, torch.bernoulli(p_h_given_v)\n",
        "  def sample_v(self, y):\n",
        "    wy = torch.mm(y, self.W)\n",
        "    activation = wy + self.b.expand_as(wy)\n",
        "    p_v_given_h = torch.sigmoid(activation)\n",
        "    return p_v_given_h, torch.bernoulli(p_v_given_h)\n",
        "  def train(self, v0, vk, ph0, phk):\n",
        "    self.W += (torch.mm(v0.t(), ph0) - torch.mm(vk.t(), phk)).t()\n",
        "    self.b += torch.sum((v0 - vk), 0)\n",
        "    self.a += torch.sum((ph0 - phk), 0)\n",
        "\n"
      ],
      "metadata": {
        "id": "_J98jLGhrnYq"
      },
      "execution_count": 12,
      "outputs": []
    },
    {
      "cell_type": "code",
      "source": [
        "nv = len(training_set[0])\n",
        "nh = 100\n",
        "batch_size = 100\n",
        "model = RBM(nv,nh)"
      ],
      "metadata": {
        "id": "7VIM9hWmscmA"
      },
      "execution_count": 13,
      "outputs": []
    },
    {
      "cell_type": "code",
      "source": [
        "# training the RBM\n",
        "nb_epochs = 10\n",
        "for epoch in range(nb_epochs):\n",
        "  train_loss = 0\n",
        "  s = 0.\n",
        "  for id_user in range(0,nb_users-batch_size,batch_size):\n",
        "    vk = training_set[id_user:id_user+batch_size]\n",
        "    v0 = training_set[id_user:id_user+batch_size]\n",
        "    ph0,_ = model.sample_h(v0)\n",
        "    for k in range(10):\n",
        "      _,hk = model.sample_h(vk)\n",
        "      _,vk = model.sample_v(hk)\n",
        "      vk[v0<0] = v0[v0<0]\n",
        "    phk,_ = model.sample_h(vk)\n",
        "    model.train(v0,vk,ph0,phk)\n",
        "    train_loss += torch.mean(torch.abs(v0[v0>=0]-vk[v0>=0]))\n",
        "    s += 1\n",
        "  print('epoch : '+str(epoch)+' loss : '+str(train_loss/s)) \n",
        "\n",
        "\n",
        "    "
      ],
      "metadata": {
        "id": "SrYSM66w4F8v",
        "colab": {
          "base_uri": "https://localhost:8080/"
        },
        "outputId": "07e42e87-2cc0-40b8-d033-c6be89afcea3"
      },
      "execution_count": 14,
      "outputs": [
        {
          "output_type": "stream",
          "name": "stdout",
          "text": [
            "epoch : 0 loss : tensor(0.3451)\n",
            "epoch : 1 loss : tensor(0.2332)\n",
            "epoch : 2 loss : tensor(0.2511)\n",
            "epoch : 3 loss : tensor(0.2475)\n",
            "epoch : 4 loss : tensor(0.2496)\n",
            "epoch : 5 loss : tensor(0.2483)\n",
            "epoch : 6 loss : tensor(0.2461)\n",
            "epoch : 7 loss : tensor(0.2523)\n",
            "epoch : 8 loss : tensor(0.2445)\n",
            "epoch : 9 loss : tensor(0.2494)\n"
          ]
        }
      ]
    },
    {
      "cell_type": "code",
      "source": [
        "# testing the Restriced Boltzmann machine\n",
        "\n",
        "\n",
        "test_loss = 0\n",
        "s = 0.\n",
        "for id_user in range(nb_users):\n",
        "  v = training_set[id_user:id_user+1]\n",
        "  vt = testing_set[id_user:id_user+1]\n",
        "  if len(vt[vt>=0])>0: \n",
        "    _,h = model.sample_h(v)\n",
        "    _,v = model.sample_v(h)\n",
        "    test_loss += torch.mean(torch.abs(vt[vt>=0]-v[vt>=0]))\n",
        "    s += 1\n",
        "print('loss : '+str(test_loss/s)) \n"
      ],
      "metadata": {
        "colab": {
          "base_uri": "https://localhost:8080/"
        },
        "id": "zS1WRzCHIzJq",
        "outputId": "ccb949ba-08eb-4512-ae12-687ed3857361"
      },
      "execution_count": 18,
      "outputs": [
        {
          "output_type": "stream",
          "name": "stdout",
          "text": [
            "loss : tensor(0.2429)\n"
          ]
        }
      ]
    },
    {
      "cell_type": "code",
      "source": [
        ""
      ],
      "metadata": {
        "id": "UbxNLveEEPIL"
      },
      "execution_count": 18,
      "outputs": []
    },
    {
      "cell_type": "code",
      "source": [
        ""
      ],
      "metadata": {
        "id": "IZiZr8RIIkuZ"
      },
      "execution_count": 14,
      "outputs": []
    }
  ]
}