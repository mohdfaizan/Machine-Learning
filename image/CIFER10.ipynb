{
 "cells": [
  {
   "cell_type": "code",
   "execution_count": 1,
   "metadata": {},
   "outputs": [],
   "source": [
    "import pandas as pd\n",
    "import numpy as np\n",
    "import matplotlib.pyplot as plt\n",
    "\n",
    "import tensorflow as tf"
   ]
  },
  {
   "cell_type": "code",
   "execution_count": 2,
   "metadata": {},
   "outputs": [],
   "source": [
    "cifer = tf.keras.datasets.cifar10"
   ]
  },
  {
   "cell_type": "code",
   "execution_count": 3,
   "metadata": {},
   "outputs": [],
   "source": [
    "(X_train,y_train),(X_test,y_test) = cifer.load_data()"
   ]
  },
  {
   "cell_type": "code",
   "execution_count": 4,
   "metadata": {},
   "outputs": [
    {
     "data": {
      "text/plain": [
       "((50000, 32, 32, 3), (10000, 32, 32, 3), (50000, 1), (10000, 1))"
      ]
     },
     "execution_count": 4,
     "metadata": {},
     "output_type": "execute_result"
    }
   ],
   "source": [
    "X_train.shape,X_test.shape,y_train.shape,y_test.shape"
   ]
  },
  {
   "cell_type": "code",
   "execution_count": 5,
   "metadata": {},
   "outputs": [
    {
     "data": {
      "text/plain": [
       "<matplotlib.image.AxesImage at 0x2797bb773d0>"
      ]
     },
     "execution_count": 5,
     "metadata": {},
     "output_type": "execute_result"
    },
    {
     "data": {
      "image/png": "[encoded data removed]",
      "text/plain": [
       "<Figure size 432x288 with 1 Axes>"
      ]
     },
     "metadata": {
      "needs_background": "light"
     },
     "output_type": "display_data"
    }
   ],
   "source": [
    "plt.imshow(X_train[0])"
   ]
  },
  {
   "cell_type": "code",
   "execution_count": 6,
   "metadata": {},
   "outputs": [],
   "source": [
    "from tensorflow.keras.utils import to_categorical\n",
    "\n",
    "y_train = to_categorical(y_train)\n",
    "y_test = to_categorical(y_test)"
   ]
  },
  {
   "cell_type": "code",
   "execution_count": 7,
   "metadata": {},
   "outputs": [],
   "source": [
    "from tensorflow.keras.preprocessing.image import ImageDataGenerator"
   ]
  },
  {
   "cell_type": "code",
   "execution_count": 8,
   "metadata": {},
   "outputs": [],
   "source": [
    "datagen = ImageDataGenerator(rotation_range=30,zoom_range=0.1,horizontal_flip=True,width_shift_range=0.1,height_shift_range=0.1)"
   ]
  },
  {
   "cell_type": "code",
   "execution_count": 9,
   "metadata": {},
   "outputs": [],
   "source": [
    "train_data = datagen.flow(X_train,y_train,batch_size=64)\n",
    "test_data = datagen.flow(X_test,y_test,batch_size=64)"
   ]
  },
  {
   "cell_type": "code",
   "execution_count": 10,
   "metadata": {},
   "outputs": [],
   "source": [
    "# creation of model\n",
    "\n",
    "from tensorflow.keras.models import Sequential\n",
    "from tensorflow.keras.layers import Dense,MaxPooling2D,Conv2D,Flatten,BatchNormalization\n",
    "\n",
    "model = Sequential()\n",
    "\n",
    "model.add(Conv2D(filters=64,kernel_size=(3,3),activation='relu',input_shape=(32,32,3)))\n",
    "model.add(Conv2D(filters=64,kernel_size=(3,3),activation='relu'))        \n",
    "model.add(MaxPooling2D(pool_size=(2,2)))\n",
    "model.add(BatchNormalization())\n",
    "\n",
    "model.add(Conv2D(filters=128,kernel_size=(3,3),activation='relu'))\n",
    "model.add(Conv2D(filters=128,kernel_size=(3,3),activation='relu'))         \n",
    "model.add(MaxPooling2D(pool_size=(2,2)))\n",
    "model.add(BatchNormalization())\n",
    "\n",
    "model.add(Conv2D(filters=256,kernel_size=(3,3),activation='relu'))\n",
    "model.add(MaxPooling2D(pool_size=(2,2)))\n",
    "model.add(Flatten())\n",
    "model.add(BatchNormalization())\n",
    "          \n",
    "model.add(Dense(512,'relu',))\n",
    "          \n",
    "# Adding output layer\n",
    "model.add(Dense(10,'softmax'))\n",
    "          \n",
    "model.compile('adam','categorical_crossentropy',metrics=['accuracy'])"
   ]
  },
  {
   "cell_type": "code",
   "execution_count": 11,
   "metadata": {},
   "outputs": [
    {
     "name": "stdout",
     "output_type": "stream",
     "text": [
      "Epoch 1/25\n",
      "782/782 [==============================] - 376s 478ms/step - loss: 1.6277 - accuracy: 0.4130 - val_loss: 1.7723 - val_accuracy: 0.3993\n",
      "Epoch 2/25\n",
      "782/782 [==============================] - 369s 472ms/step - loss: 1.2564 - accuracy: 0.5545 - val_loss: 1.2700 - val_accuracy: 0.5560\n",
      "Epoch 3/25\n",
      "782/782 [==============================] - 369s 472ms/step - loss: 1.0920 - accuracy: 0.6153 - val_loss: 1.2995 - val_accuracy: 0.5555\n",
      "Epoch 4/25\n",
      "782/782 [==============================] - 370s 473ms/step - loss: 1.0041 - accuracy: 0.6460 - val_loss: 1.3085 - val_accuracy: 0.5756\n",
      "Epoch 5/25\n",
      "782/782 [==============================] - 373s 477ms/step - loss: 0.9246 - accuracy: 0.6752 - val_loss: 1.0251 - val_accuracy: 0.6485\n",
      "Epoch 6/25\n",
      "782/782 [==============================] - 3519s 5s/step - loss: 0.8744 - accuracy: 0.6945 - val_loss: 0.9532 - val_accuracy: 0.6684\n",
      "Epoch 7/25\n",
      "782/782 [==============================] - 418s 534ms/step - loss: 0.8435 - accuracy: 0.7066 - val_loss: 0.9077 - val_accuracy: 0.6866\n",
      "Epoch 8/25\n",
      "782/782 [==============================] - 391s 499ms/step - loss: 0.8107 - accuracy: 0.7196 - val_loss: 0.9343 - val_accuracy: 0.6742\n",
      "Epoch 9/25\n",
      "782/782 [==============================] - 423s 540ms/step - loss: 0.7820 - accuracy: 0.7285 - val_loss: 0.9794 - val_accuracy: 0.6663\n",
      "Epoch 10/25\n",
      "782/782 [==============================] - 465s 595ms/step - loss: 0.7544 - accuracy: 0.7381 - val_loss: 0.8615 - val_accuracy: 0.7049\n",
      "Epoch 11/25\n",
      "782/782 [==============================] - 431s 551ms/step - loss: 0.7318 - accuracy: 0.7460 - val_loss: 0.9040 - val_accuracy: 0.6937\n",
      "Epoch 12/25\n",
      "782/782 [==============================] - 371s 474ms/step - loss: 0.7083 - accuracy: 0.7529 - val_loss: 0.8157 - val_accuracy: 0.7209\n",
      "Epoch 13/25\n",
      "782/782 [==============================] - 371s 475ms/step - loss: 0.6931 - accuracy: 0.7579 - val_loss: 0.8167 - val_accuracy: 0.7201\n",
      "Epoch 14/25\n",
      "782/782 [==============================] - 372s 476ms/step - loss: 0.6754 - accuracy: 0.7650 - val_loss: 0.7799 - val_accuracy: 0.7275\n",
      "Epoch 15/25\n",
      "782/782 [==============================] - 370s 473ms/step - loss: 0.6584 - accuracy: 0.7713 - val_loss: 0.7776 - val_accuracy: 0.7338\n",
      "Epoch 16/25\n",
      "782/782 [==============================] - 939s 1s/step - loss: 0.6438 - accuracy: 0.7759 - val_loss: 0.7646 - val_accuracy: 0.7378\n",
      "Epoch 17/25\n",
      "782/782 [==============================] - 400s 511ms/step - loss: 0.6367 - accuracy: 0.7780 - val_loss: 0.7898 - val_accuracy: 0.7338\n",
      "Epoch 18/25\n",
      "782/782 [==============================] - 406s 520ms/step - loss: 0.6259 - accuracy: 0.7811 - val_loss: 0.7385 - val_accuracy: 0.7504\n",
      "Epoch 19/25\n",
      "782/782 [==============================] - 507s 648ms/step - loss: 0.6068 - accuracy: 0.7903 - val_loss: 0.7693 - val_accuracy: 0.7398\n",
      "Epoch 20/25\n",
      "782/782 [==============================] - 522s 667ms/step - loss: 0.5974 - accuracy: 0.7918 - val_loss: 0.7669 - val_accuracy: 0.7372\n",
      "Epoch 21/25\n",
      "782/782 [==============================] - 379s 485ms/step - loss: 0.5846 - accuracy: 0.7961 - val_loss: 0.7544 - val_accuracy: 0.7419\n",
      "Epoch 22/25\n",
      "782/782 [==============================] - 370s 473ms/step - loss: 0.5823 - accuracy: 0.7960 - val_loss: 0.7223 - val_accuracy: 0.7494\n",
      "Epoch 23/25\n",
      "782/782 [==============================] - 523s 669ms/step - loss: 0.5762 - accuracy: 0.7995 - val_loss: 0.6937 - val_accuracy: 0.7627\n",
      "Epoch 24/25\n",
      "782/782 [==============================] - 528s 675ms/step - loss: 0.5610 - accuracy: 0.8070 - val_loss: 0.7536 - val_accuracy: 0.7542\n",
      "Epoch 25/25\n",
      "782/782 [==============================] - 496s 634ms/step - loss: 0.5595 - accuracy: 0.8051 - val_loss: 0.6925 - val_accuracy: 0.7703\n"
     ]
    },
    {
     "data": {
      "text/plain": [
       "<keras.callbacks.History at 0x2797bfa7220>"
      ]
     },
     "execution_count": 11,
     "metadata": {},
     "output_type": "execute_result"
    }
   ],
   "source": [
    "model.fit(train_data,validation_data=test_data,epochs=25)"
   ]
  },
  {
   "cell_type": "code",
   "execution_count": null,
   "metadata": {},
   "outputs": [],
   "source": [
    "# Implementation of Early Stopping\n",
    "\n",
    "# from tensorflow.keras.optimizers import Adam\n",
    "# model.compile(optimizer=\"adam\", loss='categorical_crossentropy', metrics=[\"accuracy\"])\n",
    "\n",
    "# callback = tf.keras.callbacks.EarlyStopping(monitor='accuracy', patience=4)\n",
    "\n",
    "# history = model.fit(train_images, validation_data=val_images, epochs=1, callbacks=callback)"
   ]
  },
  {
   "cell_type": "code",
   "execution_count": 17,
   "metadata": {},
   "outputs": [],
   "source": [
    "y_pred = model.predict(X_test)"
   ]
  },
  {
   "cell_type": "code",
   "execution_count": 18,
   "metadata": {},
   "outputs": [],
   "source": [
    "y_pred_data = np.argmax(y_pred,1)"
   ]
  },
  {
   "cell_type": "code",
   "execution_count": 20,
   "metadata": {},
   "outputs": [],
   "source": [
    "y_test = np.argmax(y_test,1)"
   ]
  },
  {
   "cell_type": "code",
   "execution_count": 21,
   "metadata": {},
   "outputs": [
    {
     "data": {
      "text/plain": [
       "0.7915"
      ]
     },
     "execution_count": 21,
     "metadata": {},
     "output_type": "execute_result"
    }
   ],
   "source": [
    "from sklearn.metrics import accuracy_score\n",
    "accuracy_score(y_test,y_pred_data)"
   ]
  },
  {
   "cell_type": "code",
   "execution_count": null,
   "metadata": {},
   "outputs": [],
   "source": []
  }
 ],
 "metadata": {
  "kernelspec": {
   "display_name": "Python 3",
   "language": "python",
   "name": "python3"
  },
  "language_info": {
   "codemirror_mode": {
    "name": "ipython",
    "version": 3
   },
   "file_extension": ".py",
   "mimetype": "text/x-python",
   "name": "python",
   "nbconvert_exporter": "python",
   "pygments_lexer": "ipython3",
   "version": "3.8.5"
  }
 },
 "nbformat": 4,
 "nbformat_minor": 4
}
