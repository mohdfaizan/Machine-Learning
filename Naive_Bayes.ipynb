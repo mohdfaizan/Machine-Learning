{
  "nbformat": 4,
  "nbformat_minor": 0,
  "metadata": {
    "kernelspec": {
      "display_name": "Python 3",
      "language": "python",
      "name": "python3"
    },
    "language_info": {
      "codemirror_mode": {
        "name": "ipython",
        "version": 3
      },
      "file_extension": ".py",
      "mimetype": "text/x-python",
      "name": "python",
      "nbconvert_exporter": "python",
      "pygments_lexer": "ipython3",
      "version": "3.8.5"
    },
    "colab": {
      "name": "Naive Bayes.ipynb",
      "provenance": []
    }
  },
  "cells": [
    {
      "cell_type": "code",
      "metadata": {
        "id": "FV9XVCr5haj1"
      },
      "source": [
        "import matplotlib.pyplot as plt\n",
        "import pandas as pd\n",
        "import numpy as np\n",
        "from sklearn.model_selection import train_test_split\n",
        "\n",
        "%matplotlib inline"
      ],
      "execution_count": null,
      "outputs": []
    },
    {
      "cell_type": "code",
      "metadata": {
        "id": "9qioENQ3haj5"
      },
      "source": [
        "\n",
        "class NaiveBayes:\n",
        "    \n",
        "    def fit(self,X,y,prior=None):\n",
        "        self.prior = prior\n",
        "        self.classes = y.unique()\n",
        "        self.mean = pd.DataFrame(columns=X.columns,index=np.unique(y))\n",
        "        self.var = pd.DataFrame(columns=X.columns,index=np.unique(y))\n",
        "        for i in X.columns:\n",
        "            for j in self.classes:\n",
        "                self.var.loc[j,i] = np.var(X[y==j][i])\n",
        "                self.mean.loc[j,i] = np.mean(X[y==j][i])\n",
        "                \n",
        "        if not self.prior:  \n",
        "            self.prior = {}\n",
        "            for i in self.classes:\n",
        "                self.prior[i] = round(((y[y==i].shape[0])/(y.shape[0])),2)\n",
        "            \n",
        "    def pdf(self,x,column,cls):\n",
        "        num1 = (x-self.mean.loc[cls,column]) ** 2\n",
        "        num2 = 2*self.var.loc[cls,column]\n",
        "        num = np.exp(-(num1/num2)) \n",
        "        deno = np.sqrt(2 * np.pi * self.var.loc[cls,column])\n",
        "        return (num/deno)\n",
        "        \n",
        "    def predict(self,X,proba=False):\n",
        "        final_result = []\n",
        "        probability = []\n",
        "        X.reset_index(drop=True,inplace=True)\n",
        "        for i in range(X.shape[0]):\n",
        "            temp = []\n",
        "            for k in self.classes:\n",
        "                conditional = 0\n",
        "                for j in X.columns:\n",
        "                    conditional += np.log(self.pdf(X.loc[i,j],j,k))\n",
        "                posterior = conditional + np.log(self.prior[k])\n",
        "                temp.append(posterior)\n",
        "            probability.append([np.exp(lo) for lo in temp])\n",
        "            final_result.append(self.classes[np.argmax(temp)])\n",
        "        if proba:\n",
        "            return probability\n",
        "        return final_result\n",
        "    "
      ],
      "execution_count": null,
      "outputs": []
    },
    {
      "cell_type": "code",
      "metadata": {
        "id": "3R_j0Xvghaj6"
      },
      "source": [
        "# from sklearn.metrix import confusion_metrix"
      ],
      "execution_count": null,
      "outputs": []
    },
    {
      "cell_type": "markdown",
      "metadata": {
        "id": "ErLjGQp5haj6"
      },
      "source": [
        "IRIS DATASET"
      ]
    },
    {
      "cell_type": "code",
      "metadata": {
        "id": "Vj7mTQrUhaj9"
      },
      "source": [
        "from sklearn.datasets import load_iris\n",
        "\n",
        "iris = load_iris()\n",
        "X = pd.DataFrame(iris['data'])\n",
        "y = pd.Series(iris['target'])\n",
        "\n",
        "X_train,X_test,y_train,y_test = train_test_split(X,y,test_size=0.3,random_state=42,stratify=y)\n",
        "\n",
        "obj = NaiveBayes()\n",
        "obj.fit(X_train,y_train)\n",
        "y_pred = obj.predict(X_test)\n",
        "probability_iris = obj.predict(X_test,proba=True)"
      ],
      "execution_count": null,
      "outputs": []
    },
    {
      "cell_type": "code",
      "metadata": {
        "id": "O8MFUWmPhaj9"
      },
      "source": [
        ""
      ],
      "execution_count": null,
      "outputs": []
    },
    {
      "cell_type": "code",
      "metadata": {
        "id": "vPyNskoAhaj-",
        "outputId": "9b0644c8-1934-4fc1-9760-d311ae382c88"
      },
      "source": [
        "plot_train_iris = y_train.value_counts().to_frame().reset_index()\n",
        "plot_test_iris = y_test.value_counts().to_frame().reset_index()\n",
        "\n",
        "# set width of bars\n",
        "barWidth = 0.25\n",
        " \n",
        "# set heights of bars\n",
        "bars_iris_1 = plot_train_iris[0].values\n",
        "bars_iris_2 = plot_test_iris[0].values\n",
        " \n",
        "# Set position of bar on X axis\n",
        "r1_iris = np.arange(len(bars_iris_1))\n",
        "r2_iris = [x + barWidth for x in r1_iris]\n",
        " \n",
        "# Make the plot\n",
        "plt.bar(r1_iris, bars_iris_1, color='red', width=barWidth, edgecolor='white', label='Training data')\n",
        "plt.bar(r2_iris, bars_iris_2, color='blue', width=barWidth, edgecolor='white', label='Testing data')\n",
        " \n",
        "# Add xticks on the middle of the group bars\n",
        "plt.xlabel('Class', fontweight='bold')\n",
        "plt.xticks([r + barWidth for r in range(len(bars_iris_1))], [0,1,2])\n",
        " \n",
        "# Create legend & Show graphic\n",
        "plt.legend()\n",
        "plt.show()"
      ],
      "execution_count": null,
      "outputs": [
        {
          "output_type": "display_data",
          "data": {
            "image/png": "[encoded data removed]",
            "text/plain": [
              "<Figure size 432x288 with 1 Axes>"
            ]
          },
          "metadata": {
            "tags": [],
            "needs_background": "light"
          }
        }
      ]
    },
    {
      "cell_type": "code",
      "metadata": {
        "id": "B0is8-LdhakA"
      },
      "source": [
        ""
      ],
      "execution_count": null,
      "outputs": []
    },
    {
      "cell_type": "code",
      "metadata": {
        "id": "9BzEHMj4hakA",
        "outputId": "4f8b275e-ee93-42bc-f84a-4f5d58f2bf16"
      },
      "source": [
        "from sklearn.metrics import accuracy_score\n",
        "accuracy_score(y_test,y_pred)"
      ],
      "execution_count": null,
      "outputs": [
        {
          "output_type": "execute_result",
          "data": {
            "text/plain": [
              "0.9111111111111111"
            ]
          },
          "metadata": {
            "tags": []
          },
          "execution_count": 6
        }
      ]
    },
    {
      "cell_type": "code",
      "metadata": {
        "id": "sJGG_AwrhakB"
      },
      "source": [
        "confusion_metrix_iris = pd.DataFrame(columns = y.unique(),index=y.unique())\n",
        "pred_test_df = pd.DataFrame()\n",
        "pred_test_df['pred'] = y_pred\n",
        "pred_test_df['test'] = y_test.values\n",
        "\n",
        "# prediction in rows and actual in columns\n",
        "for prediction in y.unique():\n",
        "    for test_data in y.unique():\n",
        "        confusion_metrix_iris.loc[prediction,test_data] = pred_test_df[(pred_test_df['pred']==prediction) & (pred_test_df['test']==test_data)].shape[0]"
      ],
      "execution_count": null,
      "outputs": []
    },
    {
      "cell_type": "code",
      "metadata": {
        "id": "nitLjwsAhakC",
        "outputId": "a6392016-1452-4e74-b726-af867d602cf2"
      },
      "source": [
        "#confusion metrix of iris dataset\n",
        "confusion_metrix_iris"
      ],
      "execution_count": null,
      "outputs": [
        {
          "output_type": "execute_result",
          "data": {
            "text/html": [
              "<div>\n",
              "<style scoped>\n",
              "    .dataframe tbody tr th:only-of-type {\n",
              "        vertical-align: middle;\n",
              "    }\n",
              "\n",
              "    .dataframe tbody tr th {\n",
              "        vertical-align: top;\n",
              "    }\n",
              "\n",
              "    .dataframe thead th {\n",
              "        text-align: right;\n",
              "    }\n",
              "</style>\n",
              "<table border=\"1\" class=\"dataframe\">\n",
              "  <thead>\n",
              "    <tr style=\"text-align: right;\">\n",
              "      <th></th>\n",
              "      <th>0</th>\n",
              "      <th>1</th>\n",
              "      <th>2</th>\n",
              "    </tr>\n",
              "  </thead>\n",
              "  <tbody>\n",
              "    <tr>\n",
              "      <th>0</th>\n",
              "      <td>15</td>\n",
              "      <td>0</td>\n",
              "      <td>0</td>\n",
              "    </tr>\n",
              "    <tr>\n",
              "      <th>1</th>\n",
              "      <td>0</td>\n",
              "      <td>14</td>\n",
              "      <td>3</td>\n",
              "    </tr>\n",
              "    <tr>\n",
              "      <th>2</th>\n",
              "      <td>0</td>\n",
              "      <td>1</td>\n",
              "      <td>12</td>\n",
              "    </tr>\n",
              "  </tbody>\n",
              "</table>\n",
              "</div>"
            ],
            "text/plain": [
              "    0   1   2\n",
              "0  15   0   0\n",
              "1   0  14   3\n",
              "2   0   1  12"
            ]
          },
          "metadata": {
            "tags": []
          },
          "execution_count": 8
        }
      ]
    },
    {
      "cell_type": "code",
      "metadata": {
        "id": "QqhGAUSAhakC"
      },
      "source": [
        ""
      ],
      "execution_count": null,
      "outputs": []
    },
    {
      "cell_type": "code",
      "metadata": {
        "id": "XLKa0pFZhakD",
        "outputId": "693ddac5-3af7-45bf-df66-c21e17403867"
      },
      "source": [
        "# OVERALL ACCURACY\n",
        "accu = 0\n",
        "for i in y.unique():\n",
        "    accu += confusion_metrix_iris.loc[i,i]\n",
        "class_accuracy = accu/X_test.shape[0]\n",
        "print('OVERALL ACCURACY OF THE CLASSIFIER : ',class_accuracy)\n",
        "\n",
        "print('')\n",
        "\n",
        "# CLASS WISE ACCURACY\n",
        "for i in y.unique():\n",
        "    class_data = confusion_metrix_iris.loc[i,i]\n",
        "    row_data = confusion_metrix_iris.loc[i,:].sum()\n",
        "    column_data = confusion_metrix_iris.loc[:,i].sum()\n",
        "    correct_prediction = confusion_metrix_iris.sum().sum()-(row_data+column_data-2*class_data)\n",
        "    total_class_data = confusion_metrix_iris.sum().sum()\n",
        "    print(\"ACCURACY OF CLASS \",i,\" IS : \",correct_prediction/total_class_data)"
      ],
      "execution_count": null,
      "outputs": [
        {
          "output_type": "stream",
          "text": [
            "OVERALL ACCURACY OF THE CLASSIFIER :  0.9111111111111111\n",
            "\n",
            "ACCURACY OF CLASS  0  IS :  1.0\n",
            "ACCURACY OF CLASS  1  IS :  0.9111\n",
            "ACCURACY OF CLASS  2  IS :  0.9111\n"
          ],
          "name": "stdout"
        }
      ]
    },
    {
      "cell_type": "code",
      "metadata": {
        "id": "7xssX8iShakD"
      },
      "source": [
        ""
      ],
      "execution_count": null,
      "outputs": []
    },
    {
      "cell_type": "code",
      "metadata": {
        "id": "tENAF4sPhakE"
      },
      "source": [
        "# from sklearn.metrics import roc_curve\n",
        "\n",
        "# probability_iris_array = np.array(probability_iris)\n",
        "# a = pd.get_dummies(y_test)\n",
        "\n",
        "# for i in y.unique():\n",
        "#     fpr,tpr,_ = roc_curve(a.loc[:,i],probability_iris_array[:,i])\n",
        "#     plt.plot(fpr,tpr)"
      ],
      "execution_count": null,
      "outputs": []
    },
    {
      "cell_type": "code",
      "metadata": {
        "id": "MF33OGcohakE"
      },
      "source": [
        ""
      ],
      "execution_count": null,
      "outputs": []
    },
    {
      "cell_type": "markdown",
      "metadata": {
        "id": "OstGFrQ8hakF"
      },
      "source": [
        "WINE DATASET"
      ]
    },
    {
      "cell_type": "code",
      "metadata": {
        "id": "CkjJQ9lkhakF",
        "outputId": "e82c2cac-9163-41a7-b54e-80e96808bd02"
      },
      "source": [
        "from sklearn.datasets import load_wine\n",
        "\n",
        "wine = load_wine()\n",
        "X_wine = pd.DataFrame(wine['data'])\n",
        "y_wine = pd.Series(wine['target'])\n",
        "\n",
        "X_train_wine,X_test_wine,y_train_wine,y_test_wine = train_test_split(X_wine,y_wine,test_size=0.3,random_state=42,stratify=y_wine)\n",
        "\n",
        "obj = NaiveBayes()\n",
        "obj.fit(X_train_wine,y_train_wine)\n",
        "y_pred_wine = obj.predict(X_test_wine)\n",
        "probability_wine = obj.predict(X_test_wine,proba=True)\n",
        "accuracy_score(y_test_wine,y_pred_wine)"
      ],
      "execution_count": null,
      "outputs": [
        {
          "output_type": "execute_result",
          "data": {
            "text/plain": [
              "1.0"
            ]
          },
          "metadata": {
            "tags": []
          },
          "execution_count": 10
        }
      ]
    },
    {
      "cell_type": "code",
      "metadata": {
        "id": "xZ0PFuSAhakF",
        "outputId": "ebe84f54-29f1-4ce0-93d9-d3f4b0188dda"
      },
      "source": [
        "# Accuracy and confusion metrix of training dataset\n",
        "\n",
        "y_pred_train = obj.predict(X_train_wine)\n",
        "print('Accuracy on Wine Training Data Set : ',accuracy_score(y_train_wine,y_pred_train))\n",
        "\n",
        "confusion_metrix_wine_train = pd.DataFrame(columns = y_wine.unique(),index=y_wine.unique())\n",
        "pred_train_df_wine = pd.DataFrame()\n",
        "pred_train_df_wine['pred'] = y_pred_train\n",
        "pred_train_df_wine['test'] = y_train_wine.values\n",
        "\n",
        "# prediction in rows and actual in columns\n",
        "for prediction_wine in y_wine.unique():\n",
        "    for test_data_wine in y_wine.unique():\n",
        "        confusion_metrix_wine_train.loc[prediction_wine,test_data_wine] = pred_train_df_wine[(pred_train_df_wine['pred']==prediction_wine) & (pred_train_df_wine['test']==test_data_wine)].shape[0]"
      ],
      "execution_count": null,
      "outputs": [
        {
          "output_type": "stream",
          "text": [
            "Accuracy on Wine Training Data Set :  0.967741935483871\n"
          ],
          "name": "stdout"
        }
      ]
    },
    {
      "cell_type": "code",
      "metadata": {
        "id": "EwxLBI-1hakG",
        "outputId": "bac5c207-347e-4128-ef29-1ab059ea4a5b"
      },
      "source": [
        "# Confusion metrix of wine training set\n",
        "confusion_metrix_wine_train"
      ],
      "execution_count": null,
      "outputs": [
        {
          "output_type": "execute_result",
          "data": {
            "text/html": [
              "<div>\n",
              "<style scoped>\n",
              "    .dataframe tbody tr th:only-of-type {\n",
              "        vertical-align: middle;\n",
              "    }\n",
              "\n",
              "    .dataframe tbody tr th {\n",
              "        vertical-align: top;\n",
              "    }\n",
              "\n",
              "    .dataframe thead th {\n",
              "        text-align: right;\n",
              "    }\n",
              "</style>\n",
              "<table border=\"1\" class=\"dataframe\">\n",
              "  <thead>\n",
              "    <tr style=\"text-align: right;\">\n",
              "      <th></th>\n",
              "      <th>0</th>\n",
              "      <th>1</th>\n",
              "      <th>2</th>\n",
              "    </tr>\n",
              "  </thead>\n",
              "  <tbody>\n",
              "    <tr>\n",
              "      <th>0</th>\n",
              "      <td>39</td>\n",
              "      <td>0</td>\n",
              "      <td>0</td>\n",
              "    </tr>\n",
              "    <tr>\n",
              "      <th>1</th>\n",
              "      <td>2</td>\n",
              "      <td>48</td>\n",
              "      <td>0</td>\n",
              "    </tr>\n",
              "    <tr>\n",
              "      <th>2</th>\n",
              "      <td>0</td>\n",
              "      <td>2</td>\n",
              "      <td>33</td>\n",
              "    </tr>\n",
              "  </tbody>\n",
              "</table>\n",
              "</div>"
            ],
            "text/plain": [
              "    0   1   2\n",
              "0  39   0   0\n",
              "1   2  48   0\n",
              "2   0   2  33"
            ]
          },
          "metadata": {
            "tags": []
          },
          "execution_count": 12
        }
      ]
    },
    {
      "cell_type": "code",
      "metadata": {
        "id": "Qd5eeYwqhakG",
        "outputId": "d1e99996-27cb-4867-8c11-e0dede985f00"
      },
      "source": [
        "obj.prior"
      ],
      "execution_count": null,
      "outputs": [
        {
          "output_type": "execute_result",
          "data": {
            "text/plain": [
              "{0: 0.33, 1: 0.4, 2: 0.27}"
            ]
          },
          "metadata": {
            "tags": []
          },
          "execution_count": 13
        }
      ]
    },
    {
      "cell_type": "code",
      "metadata": {
        "id": "NzZRRokmhakH"
      },
      "source": [
        "# confusion metrix of testing dataset\n",
        "\n",
        "confusion_metrix_wine = pd.DataFrame(columns = y_wine.unique(),index=y_wine.unique())\n",
        "pred_test_df_wine = pd.DataFrame()\n",
        "pred_test_df_wine['pred'] = y_pred_wine\n",
        "pred_test_df_wine['test'] = y_test_wine.values\n",
        "\n",
        "# prediction in rows and actual in columns\n",
        "for prediction_wine in y_wine.unique():\n",
        "    for test_data_wine in y_wine.unique():\n",
        "        confusion_metrix_wine.loc[prediction_wine,test_data_wine] = pred_test_df_wine[(pred_test_df_wine['pred']==prediction_wine) & (pred_test_df_wine['test']==test_data_wine)].shape[0]"
      ],
      "execution_count": null,
      "outputs": []
    },
    {
      "cell_type": "code",
      "metadata": {
        "id": "iOGg4U1DhakH",
        "outputId": "5e511ade-f086-40c2-ab0e-a946a3962c9a"
      },
      "source": [
        "# confusion metrix of wine dataset\n",
        "confusion_metrix_wine"
      ],
      "execution_count": null,
      "outputs": [
        {
          "output_type": "execute_result",
          "data": {
            "text/html": [
              "<div>\n",
              "<style scoped>\n",
              "    .dataframe tbody tr th:only-of-type {\n",
              "        vertical-align: middle;\n",
              "    }\n",
              "\n",
              "    .dataframe tbody tr th {\n",
              "        vertical-align: top;\n",
              "    }\n",
              "\n",
              "    .dataframe thead th {\n",
              "        text-align: right;\n",
              "    }\n",
              "</style>\n",
              "<table border=\"1\" class=\"dataframe\">\n",
              "  <thead>\n",
              "    <tr style=\"text-align: right;\">\n",
              "      <th></th>\n",
              "      <th>0</th>\n",
              "      <th>1</th>\n",
              "      <th>2</th>\n",
              "    </tr>\n",
              "  </thead>\n",
              "  <tbody>\n",
              "    <tr>\n",
              "      <th>0</th>\n",
              "      <td>18</td>\n",
              "      <td>0</td>\n",
              "      <td>0</td>\n",
              "    </tr>\n",
              "    <tr>\n",
              "      <th>1</th>\n",
              "      <td>0</td>\n",
              "      <td>21</td>\n",
              "      <td>0</td>\n",
              "    </tr>\n",
              "    <tr>\n",
              "      <th>2</th>\n",
              "      <td>0</td>\n",
              "      <td>0</td>\n",
              "      <td>15</td>\n",
              "    </tr>\n",
              "  </tbody>\n",
              "</table>\n",
              "</div>"
            ],
            "text/plain": [
              "    0   1   2\n",
              "0  18   0   0\n",
              "1   0  21   0\n",
              "2   0   0  15"
            ]
          },
          "metadata": {
            "tags": []
          },
          "execution_count": 15
        }
      ]
    },
    {
      "cell_type": "code",
      "metadata": {
        "id": "G5gm6WZohakI",
        "outputId": "e9f00618-ba4d-407c-d7a0-b2c5af4dea97"
      },
      "source": [
        "# OVERALL ACCURACY \n",
        "accu_wine = 0\n",
        "for i in y_wine.unique():\n",
        "    accu_wine += confusion_metrix_wine.loc[i,i]\n",
        "class_accuracy_wine = accu_wine/X_test_wine.shape[0]\n",
        "print('OVERALL ACCURACY OF THE CLASSIFIER : ',class_accuracy_wine)\n",
        "\n",
        "print('')\n",
        "\n",
        "for i in y_wine.unique():\n",
        "    class_data = confusion_metrix_wine.loc[i,i]\n",
        "    row_data = confusion_metrix_wine.loc[i,:].sum()\n",
        "    column_data = confusion_metrix_wine.loc[:,i].sum()\n",
        "    correct_prediction = confusion_metrix_wine.sum().sum()-(row_data+column_data-2*class_data)\n",
        "    total_class_data = confusion_metrix_wine.sum().sum()\n",
        "    print(\"ACCURACY OF CLASS \",i,\" IS : \",correct_prediction/total_class_data)"
      ],
      "execution_count": null,
      "outputs": [
        {
          "output_type": "stream",
          "text": [
            "OVERALL ACCURACY OF THE CLASSIFIER :  1.0\n",
            "\n",
            "ACCURACY OF CLASS  0  IS :  1.0\n",
            "ACCURACY OF CLASS  1  IS :  1.0\n",
            "ACCURACY OF CLASS  2  IS :  1.0\n"
          ],
          "name": "stdout"
        }
      ]
    },
    {
      "cell_type": "code",
      "metadata": {
        "id": "AjfCQWgyhakI",
        "outputId": "9c612fcd-44c8-4d86-d725-debd235ec3b5"
      },
      "source": [
        "plot_train_data = y_train_wine.value_counts().to_frame().reset_index()\n",
        "plot_test_data = y_test_wine.value_counts().to_frame().reset_index()\n",
        "\n",
        "# set width of bars\n",
        "barWidth = 0.25\n",
        " \n",
        "# set heights of bars\n",
        "bars1 = plot_train_data[0].values\n",
        "bars2 = plot_test_data[0].values\n",
        " \n",
        "# Set position of bar on X axis\n",
        "r1 = np.arange(len(bars1))\n",
        "r2 = [x + barWidth for x in r1]\n",
        " \n",
        "# Make the plot\n",
        "plt.bar(r1, bars1, color='red', width=barWidth, edgecolor='white', label='Training data')\n",
        "plt.bar(r2, bars2, color='blue', width=barWidth, edgecolor='white', label='Testing data')\n",
        " \n",
        "# Add xticks on the middle of the group bars\n",
        "plt.xlabel('Class', fontweight='bold')\n",
        "plt.xticks([r + barWidth for r in range(len(bars1))], [0,1,2])\n",
        " \n",
        "# Create legend & Show graphic\n",
        "plt.legend()\n",
        "plt.show()"
      ],
      "execution_count": null,
      "outputs": [
        {
          "output_type": "display_data",
          "data": {
            "image/png": "[encoded data removed]",
            "text/plain": [
              "<Figure size 432x288 with 1 Axes>"
            ]
          },
          "metadata": {
            "tags": [],
            "needs_background": "light"
          }
        }
      ]
    },
    {
      "cell_type": "code",
      "metadata": {
        "id": "oMQ75cGChakI",
        "outputId": "2da2f499-5504-4fcb-f548-3c28aab67cb1"
      },
      "source": [
        "# MEAN AND VARIENCE \n",
        "\n",
        "obj.mean"
      ],
      "execution_count": null,
      "outputs": [
        {
          "output_type": "execute_result",
          "data": {
            "text/html": [
              "<div>\n",
              "<style scoped>\n",
              "    .dataframe tbody tr th:only-of-type {\n",
              "        vertical-align: middle;\n",
              "    }\n",
              "\n",
              "    .dataframe tbody tr th {\n",
              "        vertical-align: top;\n",
              "    }\n",
              "\n",
              "    .dataframe thead th {\n",
              "        text-align: right;\n",
              "    }\n",
              "</style>\n",
              "<table border=\"1\" class=\"dataframe\">\n",
              "  <thead>\n",
              "    <tr style=\"text-align: right;\">\n",
              "      <th></th>\n",
              "      <th>0</th>\n",
              "      <th>1</th>\n",
              "      <th>2</th>\n",
              "      <th>3</th>\n",
              "      <th>4</th>\n",
              "      <th>5</th>\n",
              "      <th>6</th>\n",
              "      <th>7</th>\n",
              "      <th>8</th>\n",
              "      <th>9</th>\n",
              "      <th>10</th>\n",
              "      <th>11</th>\n",
              "      <th>12</th>\n",
              "    </tr>\n",
              "  </thead>\n",
              "  <tbody>\n",
              "    <tr>\n",
              "      <th>0</th>\n",
              "      <td>13.7305</td>\n",
              "      <td>1.94707</td>\n",
              "      <td>2.44976</td>\n",
              "      <td>17.1024</td>\n",
              "      <td>106.634</td>\n",
              "      <td>2.82854</td>\n",
              "      <td>2.94024</td>\n",
              "      <td>0.301707</td>\n",
              "      <td>1.85122</td>\n",
              "      <td>5.5678</td>\n",
              "      <td>1.05098</td>\n",
              "      <td>3.08854</td>\n",
              "      <td>1112.8</td>\n",
              "    </tr>\n",
              "    <tr>\n",
              "      <th>1</th>\n",
              "      <td>12.2424</td>\n",
              "      <td>1.9626</td>\n",
              "      <td>2.2328</td>\n",
              "      <td>20.524</td>\n",
              "      <td>95.14</td>\n",
              "      <td>2.2536</td>\n",
              "      <td>2.0468</td>\n",
              "      <td>0.3508</td>\n",
              "      <td>1.7122</td>\n",
              "      <td>2.9608</td>\n",
              "      <td>1.05892</td>\n",
              "      <td>2.8022</td>\n",
              "      <td>531.26</td>\n",
              "    </tr>\n",
              "    <tr>\n",
              "      <th>2</th>\n",
              "      <td>13.0745</td>\n",
              "      <td>3.20091</td>\n",
              "      <td>2.45424</td>\n",
              "      <td>21.5606</td>\n",
              "      <td>99.2727</td>\n",
              "      <td>1.68758</td>\n",
              "      <td>0.787576</td>\n",
              "      <td>0.446364</td>\n",
              "      <td>1.13879</td>\n",
              "      <td>7.36273</td>\n",
              "      <td>0.67303</td>\n",
              "      <td>1.69061</td>\n",
              "      <td>624.394</td>\n",
              "    </tr>\n",
              "  </tbody>\n",
              "</table>\n",
              "</div>"
            ],
            "text/plain": [
              "        0        1        2        3        4        5         6         7   \\\n",
              "0  13.7305  1.94707  2.44976  17.1024  106.634  2.82854   2.94024  0.301707   \n",
              "1  12.2424   1.9626   2.2328   20.524    95.14   2.2536    2.0468    0.3508   \n",
              "2  13.0745  3.20091  2.45424  21.5606  99.2727  1.68758  0.787576  0.446364   \n",
              "\n",
              "        8        9        10       11       12  \n",
              "0  1.85122   5.5678  1.05098  3.08854   1112.8  \n",
              "1   1.7122   2.9608  1.05892   2.8022   531.26  \n",
              "2  1.13879  7.36273  0.67303  1.69061  624.394  "
            ]
          },
          "metadata": {
            "tags": []
          },
          "execution_count": 18
        }
      ]
    },
    {
      "cell_type": "code",
      "metadata": {
        "id": "TVxJ74BwhakJ",
        "outputId": "939ad1f0-e4b5-4568-ebe6-1275bcb90f77"
      },
      "source": [
        "obj.var"
      ],
      "execution_count": null,
      "outputs": [
        {
          "output_type": "execute_result",
          "data": {
            "text/html": [
              "<div>\n",
              "<style scoped>\n",
              "    .dataframe tbody tr th:only-of-type {\n",
              "        vertical-align: middle;\n",
              "    }\n",
              "\n",
              "    .dataframe tbody tr th {\n",
              "        vertical-align: top;\n",
              "    }\n",
              "\n",
              "    .dataframe thead th {\n",
              "        text-align: right;\n",
              "    }\n",
              "</style>\n",
              "<table border=\"1\" class=\"dataframe\">\n",
              "  <thead>\n",
              "    <tr style=\"text-align: right;\">\n",
              "      <th></th>\n",
              "      <th>0</th>\n",
              "      <th>1</th>\n",
              "      <th>2</th>\n",
              "      <th>3</th>\n",
              "      <th>4</th>\n",
              "      <th>5</th>\n",
              "      <th>6</th>\n",
              "      <th>7</th>\n",
              "      <th>8</th>\n",
              "      <th>9</th>\n",
              "      <th>10</th>\n",
              "      <th>11</th>\n",
              "      <th>12</th>\n",
              "    </tr>\n",
              "  </thead>\n",
              "  <tbody>\n",
              "    <tr>\n",
              "      <th>0</th>\n",
              "      <td>0.202951</td>\n",
              "      <td>0.395762</td>\n",
              "      <td>0.0605975</td>\n",
              "      <td>7.29536</td>\n",
              "      <td>116.281</td>\n",
              "      <td>0.114881</td>\n",
              "      <td>0.137627</td>\n",
              "      <td>0.00539465</td>\n",
              "      <td>0.146386</td>\n",
              "      <td>1.48304</td>\n",
              "      <td>0.0126625</td>\n",
              "      <td>0.108866</td>\n",
              "      <td>39725.7</td>\n",
              "    </tr>\n",
              "    <tr>\n",
              "      <th>1</th>\n",
              "      <td>0.270046</td>\n",
              "      <td>1.10784</td>\n",
              "      <td>0.0788842</td>\n",
              "      <td>10.5854</td>\n",
              "      <td>347.6</td>\n",
              "      <td>0.297211</td>\n",
              "      <td>0.366682</td>\n",
              "      <td>0.0123194</td>\n",
              "      <td>0.359241</td>\n",
              "      <td>0.750035</td>\n",
              "      <td>0.0396852</td>\n",
              "      <td>0.228521</td>\n",
              "      <td>25756.2</td>\n",
              "    </tr>\n",
              "    <tr>\n",
              "      <th>2</th>\n",
              "      <td>0.261655</td>\n",
              "      <td>0.879136</td>\n",
              "      <td>0.0318062</td>\n",
              "      <td>4.78421</td>\n",
              "      <td>102.865</td>\n",
              "      <td>0.147394</td>\n",
              "      <td>0.10234</td>\n",
              "      <td>0.0145322</td>\n",
              "      <td>0.212774</td>\n",
              "      <td>5.87019</td>\n",
              "      <td>0.0139726</td>\n",
              "      <td>0.0849269</td>\n",
              "      <td>13563.3</td>\n",
              "    </tr>\n",
              "  </tbody>\n",
              "</table>\n",
              "</div>"
            ],
            "text/plain": [
              "         0         1          2        3        4         5         6   \\\n",
              "0  0.202951  0.395762  0.0605975  7.29536  116.281  0.114881  0.137627   \n",
              "1  0.270046   1.10784  0.0788842  10.5854    347.6  0.297211  0.366682   \n",
              "2  0.261655  0.879136  0.0318062  4.78421  102.865  0.147394   0.10234   \n",
              "\n",
              "           7         8         9          10         11       12  \n",
              "0  0.00539465  0.146386   1.48304  0.0126625   0.108866  39725.7  \n",
              "1   0.0123194  0.359241  0.750035  0.0396852   0.228521  25756.2  \n",
              "2   0.0145322  0.212774   5.87019  0.0139726  0.0849269  13563.3  "
            ]
          },
          "metadata": {
            "tags": []
          },
          "execution_count": 19
        }
      ]
    },
    {
      "cell_type": "code",
      "metadata": {
        "id": "XwGiyIHThakJ"
      },
      "source": [
        ""
      ],
      "execution_count": null,
      "outputs": []
    },
    {
      "cell_type": "code",
      "metadata": {
        "id": "6H7WXpQIhakJ"
      },
      "source": [
        ""
      ],
      "execution_count": null,
      "outputs": []
    },
    {
      "cell_type": "markdown",
      "metadata": {
        "id": "1nv1gpm9hakJ"
      },
      "source": [
        "WINE DATASET WITH PRIOR 40-40-20"
      ]
    },
    {
      "cell_type": "code",
      "metadata": {
        "id": "E_QvjmZphakK",
        "outputId": "d3443f9d-1cc8-46b3-843d-9bb53c1385b4"
      },
      "source": [
        "# Accuracy and confusion metrix of testing dataset\n",
        "\n",
        "obj1 = NaiveBayes()\n",
        "obj1.fit(X_train_wine,y_train_wine.reset_index(drop=True),prior={0:0.40,1:0.40,2:0.20})\n",
        "y_pred_wine1 = obj1.predict(X_test_wine)\n",
        "probability_wine1 = obj1.predict(X_test_wine,proba=True)\n",
        "print(accuracy_score(y_test_wine,y_pred_wine1))\n",
        "\n",
        "confusion_metrix_wine1 = pd.DataFrame(columns = y_wine.unique(),index=y_wine.unique())\n",
        "pred_test_df_wine1 = pd.DataFrame()\n",
        "pred_test_df_wine1['pred'] = y_pred_wine1\n",
        "pred_test_df_wine1['test'] = y_test_wine.values\n",
        "\n",
        "# prediction in rows and actual in columns\n",
        "for prediction_wine in y_wine.unique():\n",
        "    for test_data_wine in y_wine.unique():\n",
        "        confusion_metrix_wine1.loc[prediction_wine,test_data_wine] = pred_test_df_wine1[(pred_test_df_wine1['pred']==prediction_wine) & (pred_test_df_wine1['test']==test_data_wine)].shape[0]"
      ],
      "execution_count": null,
      "outputs": [
        {
          "output_type": "stream",
          "text": [
            "0.9814814814814815\n"
          ],
          "name": "stdout"
        }
      ]
    },
    {
      "cell_type": "code",
      "metadata": {
        "id": "Z1y1gpishakK",
        "outputId": "3ec352e5-8a48-411d-9a53-7a6f677affb2"
      },
      "source": [
        "# confusion metrix for testing dataset\n",
        "confusion_metrix_wine1"
      ],
      "execution_count": null,
      "outputs": [
        {
          "output_type": "execute_result",
          "data": {
            "text/html": [
              "<div>\n",
              "<style scoped>\n",
              "    .dataframe tbody tr th:only-of-type {\n",
              "        vertical-align: middle;\n",
              "    }\n",
              "\n",
              "    .dataframe tbody tr th {\n",
              "        vertical-align: top;\n",
              "    }\n",
              "\n",
              "    .dataframe thead th {\n",
              "        text-align: right;\n",
              "    }\n",
              "</style>\n",
              "<table border=\"1\" class=\"dataframe\">\n",
              "  <thead>\n",
              "    <tr style=\"text-align: right;\">\n",
              "      <th></th>\n",
              "      <th>0</th>\n",
              "      <th>1</th>\n",
              "      <th>2</th>\n",
              "    </tr>\n",
              "  </thead>\n",
              "  <tbody>\n",
              "    <tr>\n",
              "      <th>0</th>\n",
              "      <td>18</td>\n",
              "      <td>1</td>\n",
              "      <td>0</td>\n",
              "    </tr>\n",
              "    <tr>\n",
              "      <th>1</th>\n",
              "      <td>0</td>\n",
              "      <td>20</td>\n",
              "      <td>0</td>\n",
              "    </tr>\n",
              "    <tr>\n",
              "      <th>2</th>\n",
              "      <td>0</td>\n",
              "      <td>0</td>\n",
              "      <td>15</td>\n",
              "    </tr>\n",
              "  </tbody>\n",
              "</table>\n",
              "</div>"
            ],
            "text/plain": [
              "    0   1   2\n",
              "0  18   1   0\n",
              "1   0  20   0\n",
              "2   0   0  15"
            ]
          },
          "metadata": {
            "tags": []
          },
          "execution_count": 21
        }
      ]
    },
    {
      "cell_type": "code",
      "metadata": {
        "id": "1EBOq8rphakK",
        "outputId": "645f30f3-5201-4833-eb77-14795b456c31"
      },
      "source": [
        "# OVERALL ACCURACY \n",
        "accu_wine1 = 0\n",
        "for i in y_wine.unique():\n",
        "    accu_wine1 += confusion_metrix_wine.loc[i,i]\n",
        "class_accuracy_wine1 = accu_wine1/X_test_wine.shape[0]\n",
        "print('OVERALL ACCURACY OF THE CLASSIFIER : ',class_accuracy_wine1)\n",
        "\n",
        "print('')\n",
        "\n",
        "for i in y_wine.unique():\n",
        "    class_data = confusion_metrix_wine1.loc[i,i]\n",
        "    row_data = confusion_metrix_wine1.loc[i,:].sum()\n",
        "    column_data = confusion_metrix_wine1.loc[:,i].sum()\n",
        "    correct_prediction = confusion_metrix_wine1.sum().sum()-(row_data+column_data-2*class_data)\n",
        "    total_class_data = confusion_metrix_wine1.sum().sum()\n",
        "    print(\"ACCURACY OF CLASS \",i,\" IS : \",correct_prediction/total_class_data)"
      ],
      "execution_count": null,
      "outputs": [
        {
          "output_type": "stream",
          "text": [
            "OVERALL ACCURACY OF THE CLASSIFIER :  1.0\n",
            "\n",
            "ACCURACY OF CLASS  0  IS :  0.9814814814814815\n",
            "ACCURACY OF CLASS  1  IS :  0.9814814814814815\n",
            "ACCURACY OF CLASS  2  IS :  1.0\n"
          ],
          "name": "stdout"
        }
      ]
    },
    {
      "cell_type": "code",
      "metadata": {
        "id": "jwxNFmhfhakK",
        "outputId": "ccbe2002-3ab3-4dd2-a5dc-fe5ae3adfbe2"
      },
      "source": [
        "# Accuracy and confusion metrix of training dataset\n",
        "\n",
        "y_pred_train442 = obj1.predict(X_train_wine)\n",
        "print(accuracy_score(y_train_wine,y_pred_train442))\n",
        "\n",
        "confusion_metrix_wine442 = pd.DataFrame(columns = y_wine.unique(),index=y_wine.unique())\n",
        "pred_test_df_wine442 = pd.DataFrame()\n",
        "pred_test_df_wine442['pred'] = y_pred_train442\n",
        "pred_test_df_wine442['test'] = y_train_wine.values\n",
        "\n",
        "# prediction in rows and actual in columns\n",
        "for prediction_wine in y_wine.unique():\n",
        "    for test_data_wine in y_wine.unique():\n",
        "        confusion_metrix_wine442.loc[prediction_wine,test_data_wine] = pred_test_df_wine442[(pred_test_df_wine442['pred']==prediction_wine) & (pred_test_df_wine442['test']==test_data_wine)].shape[0]"
      ],
      "execution_count": null,
      "outputs": [
        {
          "output_type": "stream",
          "text": [
            "0.967741935483871\n"
          ],
          "name": "stdout"
        }
      ]
    },
    {
      "cell_type": "code",
      "metadata": {
        "id": "ipG__r9lhakL",
        "outputId": "6042bfc1-08e7-4582-90c8-0dff9f12d948"
      },
      "source": [
        "# confusion metrix for training dataset\n",
        "confusion_metrix_wine442"
      ],
      "execution_count": null,
      "outputs": [
        {
          "output_type": "execute_result",
          "data": {
            "text/html": [
              "<div>\n",
              "<style scoped>\n",
              "    .dataframe tbody tr th:only-of-type {\n",
              "        vertical-align: middle;\n",
              "    }\n",
              "\n",
              "    .dataframe tbody tr th {\n",
              "        vertical-align: top;\n",
              "    }\n",
              "\n",
              "    .dataframe thead th {\n",
              "        text-align: right;\n",
              "    }\n",
              "</style>\n",
              "<table border=\"1\" class=\"dataframe\">\n",
              "  <thead>\n",
              "    <tr style=\"text-align: right;\">\n",
              "      <th></th>\n",
              "      <th>0</th>\n",
              "      <th>1</th>\n",
              "      <th>2</th>\n",
              "    </tr>\n",
              "  </thead>\n",
              "  <tbody>\n",
              "    <tr>\n",
              "      <th>0</th>\n",
              "      <td>39</td>\n",
              "      <td>0</td>\n",
              "      <td>0</td>\n",
              "    </tr>\n",
              "    <tr>\n",
              "      <th>1</th>\n",
              "      <td>2</td>\n",
              "      <td>48</td>\n",
              "      <td>0</td>\n",
              "    </tr>\n",
              "    <tr>\n",
              "      <th>2</th>\n",
              "      <td>0</td>\n",
              "      <td>2</td>\n",
              "      <td>33</td>\n",
              "    </tr>\n",
              "  </tbody>\n",
              "</table>\n",
              "</div>"
            ],
            "text/plain": [
              "    0   1   2\n",
              "0  39   0   0\n",
              "1   2  48   0\n",
              "2   0   2  33"
            ]
          },
          "metadata": {
            "tags": []
          },
          "execution_count": 24
        }
      ]
    },
    {
      "cell_type": "markdown",
      "metadata": {
        "id": "7Ndx7gb8hakL"
      },
      "source": [
        "WINE DATASET WITH PRIOR 80-80-10"
      ]
    },
    {
      "cell_type": "code",
      "metadata": {
        "id": "W-Zq-9pqhakL",
        "outputId": "3fd0fe38-d685-41e5-fb52-f497ff8ba32b"
      },
      "source": [
        "# Accuracy and confusion metrix of Testing Dataset\n",
        "\n",
        "obj2 = NaiveBayes()\n",
        "obj2.fit(X_train_wine,y_train_wine.reset_index(drop=True),prior={0:0.80,1:0.10,2:0.10})\n",
        "y_pred_wine2 = obj2.predict(X_test_wine)\n",
        "probability_wine2 = obj2.predict(X_test_wine,proba=True)\n",
        "print('Accuracy Score of Testing Dataset : ',accuracy_score(y_test_wine,y_pred_wine2))\n",
        "\n",
        "confusion_metrix_wine2 = pd.DataFrame(columns = y_wine.unique(),index=y_wine.unique())\n",
        "pred_test_df_wine2 = pd.DataFrame()\n",
        "pred_test_df_wine2['pred'] = y_pred_wine2\n",
        "pred_test_df_wine2['test'] = y_test_wine.values\n",
        "\n",
        "# prediction in rows and actual in columns\n",
        "for prediction_wine in y_wine.unique():\n",
        "    for test_data_wine in y_wine.unique():\n",
        "        confusion_metrix_wine2.loc[prediction_wine,test_data_wine] = pred_test_df_wine2[(pred_test_df_wine2['pred']==prediction_wine) & (pred_test_df_wine2['test']==test_data_wine)].shape[0]"
      ],
      "execution_count": null,
      "outputs": [
        {
          "output_type": "stream",
          "text": [
            "Accuracy Score of Testing Dataset :  0.9814814814814815\n"
          ],
          "name": "stdout"
        }
      ]
    },
    {
      "cell_type": "code",
      "metadata": {
        "id": "czrza7vVhakL",
        "outputId": "2f461827-e392-4b28-de2c-6b0063c519f7"
      },
      "source": [
        "# confusion metrix of testing dataset\n",
        "confusion_metrix_wine2"
      ],
      "execution_count": null,
      "outputs": [
        {
          "output_type": "execute_result",
          "data": {
            "text/html": [
              "<div>\n",
              "<style scoped>\n",
              "    .dataframe tbody tr th:only-of-type {\n",
              "        vertical-align: middle;\n",
              "    }\n",
              "\n",
              "    .dataframe tbody tr th {\n",
              "        vertical-align: top;\n",
              "    }\n",
              "\n",
              "    .dataframe thead th {\n",
              "        text-align: right;\n",
              "    }\n",
              "</style>\n",
              "<table border=\"1\" class=\"dataframe\">\n",
              "  <thead>\n",
              "    <tr style=\"text-align: right;\">\n",
              "      <th></th>\n",
              "      <th>0</th>\n",
              "      <th>1</th>\n",
              "      <th>2</th>\n",
              "    </tr>\n",
              "  </thead>\n",
              "  <tbody>\n",
              "    <tr>\n",
              "      <th>0</th>\n",
              "      <td>18</td>\n",
              "      <td>1</td>\n",
              "      <td>0</td>\n",
              "    </tr>\n",
              "    <tr>\n",
              "      <th>1</th>\n",
              "      <td>0</td>\n",
              "      <td>20</td>\n",
              "      <td>0</td>\n",
              "    </tr>\n",
              "    <tr>\n",
              "      <th>2</th>\n",
              "      <td>0</td>\n",
              "      <td>0</td>\n",
              "      <td>15</td>\n",
              "    </tr>\n",
              "  </tbody>\n",
              "</table>\n",
              "</div>"
            ],
            "text/plain": [
              "    0   1   2\n",
              "0  18   1   0\n",
              "1   0  20   0\n",
              "2   0   0  15"
            ]
          },
          "metadata": {
            "tags": []
          },
          "execution_count": 26
        }
      ]
    },
    {
      "cell_type": "code",
      "metadata": {
        "id": "_aSYQDpchakM",
        "outputId": "3fd11b43-cd59-4716-b71f-4163f66f4645"
      },
      "source": [
        "# OVERALL ACCURACY \n",
        "\n",
        "accu_wine2 = 0\n",
        "for i in y_wine.unique():\n",
        "    accu_wine2 += confusion_metrix_wine2.loc[i,i]\n",
        "class_accuracy_wine2 = accu_wine2/X_test_wine.shape[0]\n",
        "print('OVERALL ACCURACY OF THE CLASSIFIER : ',class_accuracy_wine2)\n",
        "\n",
        "print('')\n",
        "\n",
        "for i in y_wine.unique():\n",
        "    class_data = confusion_metrix_wine2.loc[i,i]\n",
        "    row_data = confusion_metrix_wine2.loc[i,:].sum()\n",
        "    column_data = confusion_metrix_wine2.loc[:,i].sum()\n",
        "    correct_prediction = confusion_metrix_wine2.sum().sum()-(row_data+column_data-2*class_data)\n",
        "    total_class_data = confusion_metrix_wine2.sum().sum()\n",
        "    print(\"ACCURACY OF CLASS \",i,\" IS : \",correct_prediction/total_class_data)"
      ],
      "execution_count": null,
      "outputs": [
        {
          "output_type": "stream",
          "text": [
            "OVERALL ACCURACY OF THE CLASSIFIER :  0.9814814814814815\n",
            "\n",
            "ACCURACY OF CLASS  0  IS :  0.9814814814814815\n",
            "ACCURACY OF CLASS  1  IS :  0.9814814814814815\n",
            "ACCURACY OF CLASS  2  IS :  1.0\n"
          ],
          "name": "stdout"
        }
      ]
    },
    {
      "cell_type": "code",
      "metadata": {
        "id": "5WT6kCnVhakM",
        "outputId": "b15b73c7-b091-4873-e5d9-66bcae4a038d"
      },
      "source": [
        "# Accuracy and confusion metrix of training dataset\n",
        "\n",
        "y_pred_train811 = obj2.predict(X_train_wine)\n",
        "print(accuracy_score(y_train_wine,y_pred_train811))\n",
        "\n",
        "confusion_metrix_wine811 = pd.DataFrame(columns = y_wine.unique(),index=y_wine.unique())\n",
        "pred_test_df_wine811 = pd.DataFrame()\n",
        "pred_test_df_wine811['pred'] = y_pred_train811\n",
        "pred_test_df_wine811['test'] = y_train_wine.values\n",
        "\n",
        "# prediction in rows and actual in columns\n",
        "for prediction_wine in y_wine.unique():\n",
        "    for test_data_wine in y_wine.unique():\n",
        "        confusion_metrix_wine811.loc[prediction_wine,test_data_wine] = pred_test_df_wine811[(pred_test_df_wine811['pred']==prediction_wine) & (pred_test_df_wine811['test']==test_data_wine)].shape[0]"
      ],
      "execution_count": null,
      "outputs": [
        {
          "output_type": "stream",
          "text": [
            "0.9758064516129032\n"
          ],
          "name": "stdout"
        }
      ]
    },
    {
      "cell_type": "code",
      "metadata": {
        "id": "r2YKz5qshakM",
        "outputId": "99295171-59fb-4610-ea20-5ad7f7248917"
      },
      "source": [
        "# Confusion metrix of Training Dataset\n",
        "confusion_metrix_wine811"
      ],
      "execution_count": null,
      "outputs": [
        {
          "output_type": "execute_result",
          "data": {
            "text/html": [
              "<div>\n",
              "<style scoped>\n",
              "    .dataframe tbody tr th:only-of-type {\n",
              "        vertical-align: middle;\n",
              "    }\n",
              "\n",
              "    .dataframe tbody tr th {\n",
              "        vertical-align: top;\n",
              "    }\n",
              "\n",
              "    .dataframe thead th {\n",
              "        text-align: right;\n",
              "    }\n",
              "</style>\n",
              "<table border=\"1\" class=\"dataframe\">\n",
              "  <thead>\n",
              "    <tr style=\"text-align: right;\">\n",
              "      <th></th>\n",
              "      <th>0</th>\n",
              "      <th>1</th>\n",
              "      <th>2</th>\n",
              "    </tr>\n",
              "  </thead>\n",
              "  <tbody>\n",
              "    <tr>\n",
              "      <th>0</th>\n",
              "      <td>41</td>\n",
              "      <td>0</td>\n",
              "      <td>0</td>\n",
              "    </tr>\n",
              "    <tr>\n",
              "      <th>1</th>\n",
              "      <td>0</td>\n",
              "      <td>47</td>\n",
              "      <td>0</td>\n",
              "    </tr>\n",
              "    <tr>\n",
              "      <th>2</th>\n",
              "      <td>0</td>\n",
              "      <td>3</td>\n",
              "      <td>33</td>\n",
              "    </tr>\n",
              "  </tbody>\n",
              "</table>\n",
              "</div>"
            ],
            "text/plain": [
              "    0   1   2\n",
              "0  41   0   0\n",
              "1   0  47   0\n",
              "2   0   3  33"
            ]
          },
          "metadata": {
            "tags": []
          },
          "execution_count": 29
        }
      ]
    },
    {
      "cell_type": "code",
      "metadata": {
        "id": "kzVS22AnhakN"
      },
      "source": [
        ""
      ],
      "execution_count": null,
      "outputs": []
    },
    {
      "cell_type": "code",
      "metadata": {
        "id": "_PZFgVAVhakN"
      },
      "source": [
        ""
      ],
      "execution_count": null,
      "outputs": []
    },
    {
      "cell_type": "code",
      "metadata": {
        "id": "gcdG2hdJhakN"
      },
      "source": [
        ""
      ],
      "execution_count": null,
      "outputs": []
    }
  ]
}